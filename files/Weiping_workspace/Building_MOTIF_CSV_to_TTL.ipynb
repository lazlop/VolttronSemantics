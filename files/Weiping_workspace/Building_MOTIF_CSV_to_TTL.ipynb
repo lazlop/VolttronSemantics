{
 "cells": [
  {
   "cell_type": "code",
   "execution_count": 52,
   "id": "586e60c7",
   "metadata": {},
   "outputs": [],
   "source": [
    "from buildingmotif import BuildingMOTIF\n",
    "bm = BuildingMOTIF(\"sqlite://\") "
   ]
  },
  {
   "cell_type": "code",
   "execution_count": 117,
   "id": "178a30f4",
   "metadata": {},
   "outputs": [],
   "source": [
    "from rdflib import Namespace, Literal\n",
    "from buildingmotif.dataclasses import Model\n",
    "\n",
    "# create the namespace\n",
    "BLDG = Namespace('test:building/')\n",
    "\n",
    "# Create the model! This will raise an exception if the namespace is not syntactically valid.\n",
    "model = Model.create(BLDG, description=\"This is a test model for a simple building\") "
   ]
  },
  {
   "cell_type": "code",
   "execution_count": 54,
   "id": "9178ec87",
   "metadata": {},
   "outputs": [
    {
     "name": "stdout",
     "output_type": "stream",
     "text": [
      "@prefix owl: <http://www.w3.org/2002/07/owl#> .\n",
      "\n",
      "<test:building/> a owl:Ontology .\n",
      "\n",
      "\n"
     ]
    }
   ],
   "source": [
    "print(model.graph.serialize())"
   ]
  },
  {
   "cell_type": "markdown",
   "id": "9bcc4203",
   "metadata": {},
   "source": [
    "# Loading Libraries"
   ]
  },
  {
   "cell_type": "code",
   "execution_count": 55,
   "id": "2de4ee6f",
   "metadata": {},
   "outputs": [
    {
     "name": "stderr",
     "output_type": "stream",
     "text": [
      "2023-01-16 22:00:35,579 | root |  WARNING: Warning: could not find dependee http://data.ashrae.org/bacnet/2020#BACnetDevice\n",
      "2023-01-16 22:00:35,579 | root |  WARNING: Warning: could not find dependee https://brickschema.org/schema/Brick/ref#ifcProject\n"
     ]
    }
   ],
   "source": [
    "# load a library\n",
    "from buildingmotif.dataclasses import Library\n",
    "brick = Library.load(ontology_graph=\"Brick-full.ttl\")\n",
    "from buildingmotif.namespaces import BRICK\n",
    "\n",
    "    "
   ]
  },
  {
   "cell_type": "markdown",
   "id": "628c23d4",
   "metadata": {},
   "source": [
    "# Exploring a Template"
   ]
  },
  {
   "cell_type": "code",
   "execution_count": 56,
   "id": "828a36eb",
   "metadata": {},
   "outputs": [
    {
     "data": {
      "text/plain": [
       "'\\n# get template\\nahu_template = brick.get_template_by_name(BRICK.AHU)\\n\\n\\n\\nprint(ahu_template)\\n# print template parameters\\n\\nprint(\"The template has the following parameters:\")\\nfor param in ahu_template.parameters:\\n    print(f\"  {param}\")\\n'"
      ]
     },
     "execution_count": 56,
     "metadata": {},
     "output_type": "execute_result"
    }
   ],
   "source": [
    "# import this to make writing URIs easier\n",
    "\"\"\"\n",
    "# get template\n",
    "ahu_template = brick.get_template_by_name(BRICK.AHU)\n",
    "\n",
    "\n",
    "\n",
    "print(ahu_template)\n",
    "# print template parameters\n",
    "\n",
    "print(\"The template has the following parameters:\")\n",
    "for param in ahu_template.parameters:\n",
    "    print(f\"  {param}\")\n",
    "\"\"\""
   ]
  },
  {
   "cell_type": "code",
   "execution_count": 57,
   "id": "ea9b13e4",
   "metadata": {},
   "outputs": [],
   "source": [
    "#print(ahu_template.body.serialize())\n"
   ]
  },
  {
   "cell_type": "markdown",
   "id": "c94b08be",
   "metadata": {},
   "source": [
    "# Evaluating a Template"
   ]
  },
  {
   "cell_type": "code",
   "execution_count": 58,
   "id": "fd150162",
   "metadata": {},
   "outputs": [
    {
     "data": {
      "text/plain": [
       "'\\nahu_name = \"AHU_AC\"\\nahu_binding_dict = {\"name\": BLDG[ahu_name]}\\nahu_graph = ahu_template.evaluate(ahu_binding_dict)\\n\\n# ahu_graph is just an instance of rdflib.Graph\\nprint(ahu_graph.serialize())\\n'"
      ]
     },
     "execution_count": 58,
     "metadata": {},
     "output_type": "execute_result"
    }
   ],
   "source": [
    "\"\"\"\n",
    "ahu_name = \"AHU_AC\"\n",
    "ahu_binding_dict = {\"name\": BLDG[ahu_name]}\n",
    "ahu_graph = ahu_template.evaluate(ahu_binding_dict)\n",
    "\n",
    "# ahu_graph is just an instance of rdflib.Graph\n",
    "print(ahu_graph.serialize())\n",
    "\"\"\""
   ]
  },
  {
   "cell_type": "markdown",
   "id": "de947744",
   "metadata": {},
   "source": [
    "# Adding Evaluated Templates to the Model"
   ]
  },
  {
   "cell_type": "code",
   "execution_count": 59,
   "id": "5fbdd724",
   "metadata": {},
   "outputs": [
    {
     "data": {
      "text/plain": [
       "'\\nmodel.add_graph(ahu_graph)\\nprint(model.graph.serialize())\\n'"
      ]
     },
     "execution_count": 59,
     "metadata": {},
     "output_type": "execute_result"
    }
   ],
   "source": [
    "\"\"\"\n",
    "model.add_graph(ahu_graph)\n",
    "print(model.graph.serialize())\n",
    "\"\"\""
   ]
  },
  {
   "cell_type": "code",
   "execution_count": null,
   "id": "3dede090",
   "metadata": {},
   "outputs": [],
   "source": []
  },
  {
   "cell_type": "code",
   "execution_count": 60,
   "id": "3162eb9a",
   "metadata": {},
   "outputs": [],
   "source": [
    "import matplotlib.pyplot as plt\n",
    "import numpy as np\n",
    "import pandas as pd"
   ]
  },
  {
   "cell_type": "code",
   "execution_count": 118,
   "id": "010e5da6",
   "metadata": {},
   "outputs": [],
   "source": [
    "df=pd.read_csv('entity_relations_v4.csv')\n",
    "filename  = '/Users/lazlopaul/Desktop/VolttronSemantics/files/entity_table.csv'\n",
    "topics = pd.read_csv(filename)[['URI','base_topic']]\n",
    "df = df.merge(topics, left_on = 'subjectURI', right_on = 'URI')"
   ]
  },
  {
   "cell_type": "code",
   "execution_count": 119,
   "id": "b55285c6",
   "metadata": {},
   "outputs": [],
   "source": [
    "df['pointURI'] = np.zeros(len(df.index))\n",
    "df['topic'] = np.zeros(len(df.index))"
   ]
  },
  {
   "cell_type": "code",
   "execution_count": 120,
   "id": "21e5f80f",
   "metadata": {},
   "outputs": [],
   "source": [
    "for i in df.index:\n",
    "    if df.loc[i, 'relation'] == 'hasPoint':\n",
    "        df.loc[i, 'topic'] = df.loc[i, 'base_topic'] + '/' + df.loc[i, 'objectURI']\n",
    "        df.loc[i, 'objectURI'] = df.loc[i, 'subjectURI'] + '.' + df.loc[i, 'objectURI']\n",
    "        # df.loc[i, 'pointURI'] = df.loc[i, 'subjectURI'] + '.' + df.loc[i, 'objectURI']\n"
   ]
  },
  {
   "cell_type": "code",
   "execution_count": 121,
   "id": "bb8421a8",
   "metadata": {},
   "outputs": [],
   "source": [
    "import re\n",
    "def uni_encode(mystring):\n",
    "    mystring=str(mystring)\n",
    "    mystring=re.sub(r'[^\\w\\s]', '', mystring)\n",
    "    mynewstring=mystring.replace(\" \", \"_\")\n",
    "    return mynewstring\n",
    "#df=df.applymap(lambda x: uni_encode(x) if pd.notnull(x) else x)"
   ]
  },
  {
   "cell_type": "code",
   "execution_count": 122,
   "id": "8c8b4d77",
   "metadata": {},
   "outputs": [],
   "source": [
    "\n",
    "#print(equipment_template)"
   ]
  },
  {
   "cell_type": "code",
   "execution_count": 123,
   "id": "8a62fb46",
   "metadata": {},
   "outputs": [],
   "source": [
    "length_dataframe=len(df)\n",
    "#print(length_dataframe)\n",
    "\n",
    "for row_df in range(0,length_dataframe):\n",
    "    for column_df in [0,3]:\n",
    "        brick_class=df.iloc[row_df,column_df+1]\n",
    "        dummy_code = f\"equipment_template= brick.get_template_by_name(BRICK.{brick_class})\"\n",
    "        exec(dummy_code)\n",
    "        equipment_name =df.iloc[row_df,column_df]\n",
    "        equipment_binding_dict = {\"name\": BLDG[equipment_name]}\n",
    "        equipment_graph = equipment_template.evaluate(equipment_binding_dict)\n",
    "        model.add_graph(equipment_graph)\n",
    "\n",
    "\n"
   ]
  },
  {
   "cell_type": "code",
   "execution_count": 124,
   "id": "b0523d65",
   "metadata": {},
   "outputs": [],
   "source": [
    "for row_df in range(0,length_dataframe):\n",
    "    equipment_name1 =df.iloc[row_df,0]\n",
    "    equipment_name2 =df.iloc[row_df,3]\n",
    "    BRICK_relation=df.iloc[row_df,2]\n",
    "    dummy_code=f\"model.graph.add((BLDG['{equipment_name1}'], BRICK.{BRICK_relation}, BLDG['{equipment_name2}']))\"\n",
    "    exec(dummy_code)\n",
    "        \n",
    "        "
   ]
  },
  {
   "cell_type": "code",
   "execution_count": 125,
   "id": "4ebda605",
   "metadata": {},
   "outputs": [
    {
     "name": "stdout",
     "output_type": "stream",
     "text": [
      "@prefix brick: <https://brickschema.org/schema/Brick#> .\n",
      "@prefix owl: <http://www.w3.org/2002/07/owl#> .\n",
      "\n",
      "<test:building/> a owl:Ontology .\n",
      "\n",
      "<test:building/Bldg> a brick:Building ;\n",
      "    brick:hasPart <test:building/AdminSpace>,\n",
      "        <test:building/Office> .\n",
      "\n",
      "<test:building/Boiler2> a brick:Boiler ;\n",
      "    brick:feeds <test:building/HeatEx2> .\n",
      "\n",
      "<test:building/FCU1> a brick:FCU ;\n",
      "    brick:feeds <test:building/Zone1> ;\n",
      "    brick:hasPoint <test:building/FCU1.fanLevel>,\n",
      "        <test:building/FCU1.mode>,\n",
      "        <test:building/FCU1.on>,\n",
      "        <test:building/FCU1.targetTemperature>,\n",
      "        <test:building/FCU1.temperature>,\n",
      "        <test:building/FCU1.timeOfTemperature> .\n",
      "\n",
      "<test:building/FCU2> a brick:FCU ;\n",
      "    brick:feeds <test:building/Zone1> ;\n",
      "    brick:hasPoint <test:building/FCU2.fanLevel>,\n",
      "        <test:building/FCU2.mode>,\n",
      "        <test:building/FCU2.on>,\n",
      "        <test:building/FCU2.targetTemperature>,\n",
      "        <test:building/FCU2.temperature>,\n",
      "        <test:building/FCU2.timeOfTemperature> .\n",
      "\n",
      "<test:building/FCU3> a brick:FCU ;\n",
      "    brick:feeds <test:building/Zone1> ;\n",
      "    brick:hasPoint <test:building/FCU3.fanLevel>,\n",
      "        <test:building/FCU3.mode>,\n",
      "        <test:building/FCU3.on>,\n",
      "        <test:building/FCU3.targetTemperature>,\n",
      "        <test:building/FCU3.temperature>,\n",
      "        <test:building/FCU3.timeOfTemperature> .\n",
      "\n",
      "<test:building/FCU4> a brick:FCU ;\n",
      "    brick:feeds <test:building/Zone1> ;\n",
      "    brick:hasPoint <test:building/FCU4.fanLevel>,\n",
      "        <test:building/FCU4.mode>,\n",
      "        <test:building/FCU4.on>,\n",
      "        <test:building/FCU4.targetTemperature>,\n",
      "        <test:building/FCU4.temperature>,\n",
      "        <test:building/FCU4.timeOfTemperature> .\n",
      "\n",
      "<test:building/FCU5> a brick:FCU ;\n",
      "    brick:feeds <test:building/Zone1> ;\n",
      "    brick:hasPoint <test:building/FCU5.fanLevel>,\n",
      "        <test:building/FCU5.mode>,\n",
      "        <test:building/FCU5.on>,\n",
      "        <test:building/FCU5.targetTemperature>,\n",
      "        <test:building/FCU5.temperature>,\n",
      "        <test:building/FCU5.timeOfTemperature> .\n",
      "\n",
      "<test:building/Furnace1> a brick:AHU ;\n",
      "    brick:feeds <test:building/Zone1> ;\n",
      "    brick:hasPart <test:building/Boiler1>,\n",
      "        <test:building/Fan1>,\n",
      "        <test:building/HeatEx1> ;\n",
      "    brick:hasPoint <test:building/Furnace1.actualHumidity>,\n",
      "        <test:building/Furnace1.actualTemperature>,\n",
      "        <test:building/Furnace1.desiredCool>,\n",
      "        <test:building/Furnace1.desiredFanMode>,\n",
      "        <test:building/Furnace1.desiredHeat>,\n",
      "        <test:building/Furnace1.desiredHeatRange>,\n",
      "        <test:building/Furnace1.humidity>,\n",
      "        <test:building/Furnace1.hvacMode>,\n",
      "        <test:building/Furnace1.rawTemperature> .\n",
      "\n",
      "<test:building/Boiler1> a brick:Boiler ;\n",
      "    brick:feeds <test:building/HeatEx1> .\n",
      "\n",
      "<test:building/FCU1.fanLevel> a brick:Fan_Status .\n",
      "\n",
      "<test:building/FCU1.mode> a brick:Operating_Mode_Status .\n",
      "\n",
      "<test:building/FCU1.on> a brick:On_Off_Status .\n",
      "\n",
      "<test:building/FCU1.targetTemperature> a brick:Air_Temperature_Setpoint .\n",
      "\n",
      "<test:building/FCU1.temperature> a brick:Air_Temperature_Sensor .\n",
      "\n",
      "<test:building/FCU1.timeOfTemperature> a brick:Time_Parameter .\n",
      "\n",
      "<test:building/FCU2.fanLevel> a brick:Fan_Status .\n",
      "\n",
      "<test:building/FCU2.mode> a brick:Operating_Mode_Status .\n",
      "\n",
      "<test:building/FCU2.on> a brick:On_Off_Status .\n",
      "\n",
      "<test:building/FCU2.targetTemperature> a brick:Air_Temperature_Setpoint .\n",
      "\n",
      "<test:building/FCU2.temperature> a brick:Air_Temperature_Sensor .\n",
      "\n",
      "<test:building/FCU2.timeOfTemperature> a brick:Time_Parameter .\n",
      "\n",
      "<test:building/FCU3.fanLevel> a brick:Fan_Status .\n",
      "\n",
      "<test:building/FCU3.mode> a brick:Operating_Mode_Status .\n",
      "\n",
      "<test:building/FCU3.on> a brick:On_Off_Status .\n",
      "\n",
      "<test:building/FCU3.targetTemperature> a brick:Air_Temperature_Setpoint .\n",
      "\n",
      "<test:building/FCU3.temperature> a brick:Air_Temperature_Sensor .\n",
      "\n",
      "<test:building/FCU3.timeOfTemperature> a brick:Time_Parameter .\n",
      "\n",
      "<test:building/FCU4.fanLevel> a brick:Fan_Status .\n",
      "\n",
      "<test:building/FCU4.mode> a brick:Operating_Mode_Status .\n",
      "\n",
      "<test:building/FCU4.on> a brick:On_Off_Status .\n",
      "\n",
      "<test:building/FCU4.targetTemperature> a brick:Air_Temperature_Setpoint .\n",
      "\n",
      "<test:building/FCU4.temperature> a brick:Air_Temperature_Sensor .\n",
      "\n",
      "<test:building/FCU4.timeOfTemperature> a brick:Time_Parameter .\n",
      "\n",
      "<test:building/FCU5.fanLevel> a brick:Fan_Status .\n",
      "\n",
      "<test:building/FCU5.mode> a brick:Operating_Mode_Status .\n",
      "\n",
      "<test:building/FCU5.on> a brick:On_Off_Status .\n",
      "\n",
      "<test:building/FCU5.targetTemperature> a brick:Air_Temperature_Setpoint .\n",
      "\n",
      "<test:building/FCU5.temperature> a brick:Air_Temperature_Sensor .\n",
      "\n",
      "<test:building/FCU5.timeOfTemperature> a brick:Time_Parameter .\n",
      "\n",
      "<test:building/Fan2> a brick:Fan .\n",
      "\n",
      "<test:building/Furnace1.actualHumidity> a brick:Relative_Humidity_Sensor .\n",
      "\n",
      "<test:building/Furnace1.actualTemperature> a brick:Air_Temperature_Sensor .\n",
      "\n",
      "<test:building/Furnace1.desiredCool> a brick:Cooling_Temperature_Setpoint .\n",
      "\n",
      "<test:building/Furnace1.desiredFanMode> a brick:Fan_Command .\n",
      "\n",
      "<test:building/Furnace1.desiredHeat> a brick:Heating_Temperature_Setpoint .\n",
      "\n",
      "<test:building/Furnace1.desiredHeatRange> a brick:Air_Temperature_Setpoint_Limit .\n",
      "\n",
      "<test:building/Furnace1.humidity> a brick:Humidity_Setpoint .\n",
      "\n",
      "<test:building/Furnace1.hvacMode> a brick:Operating_Mode_Status .\n",
      "\n",
      "<test:building/Furnace1.rawTemperature> a brick:Air_Temperature_Sensor .\n",
      "\n",
      "<test:building/HeatEx2> a brick:Heat_Exchanger ;\n",
      "    brick:feeds <test:building/Fan2> .\n",
      "\n",
      "<test:building/AdminSpace> a brick:Space .\n",
      "\n",
      "<test:building/Fan1> a brick:Fan .\n",
      "\n",
      "<test:building/HeatEx1> a brick:Heat_Exchanger ;\n",
      "    brick:feeds <test:building/Fan1> .\n",
      "\n",
      "<test:building/Office> a brick:Office .\n",
      "\n",
      "<test:building/Zone1> a brick:HVAC_Zone ;\n",
      "    brick:hasPart <test:building/AdminSpace>,\n",
      "        <test:building/Office> .\n",
      "\n",
      "\n"
     ]
    }
   ],
   "source": [
    "\"\"\"\n",
    "\n",
    "# templates\n",
    "oa_ra_damper_template = brick.get_template_by_name(BRICK.Damper)\n",
    "fan_template = brick.get_template_by_name(BRICK.Supply_Fan)\n",
    "clg_coil_template = brick.get_template_by_name(BRICK.Cooling_Coil)\n",
    "\n",
    "# add fan\n",
    "fan_name = f\"{ahu_name}-Fan\"\n",
    "fan_binding_dict = {\"name\": BLDG[fan_name]}\n",
    "fan_graph = fan_template.evaluate(fan_binding_dict)\n",
    "model.add_graph(fan_graph)\n",
    "\n",
    "# add outdoor air/return air damper\n",
    "oa_ra_damper_name = f\"{ahu_name}-Damper\"\n",
    "oa_ra_damper_binding_dict = {\"name\": BLDG[oa_ra_damper_name]}\n",
    "oa_ra_damper_graph = oa_ra_damper_template.evaluate(oa_ra_damper_binding_dict)\n",
    "model.add_graph(oa_ra_damper_graph)\n",
    "\n",
    "# add clg coil\n",
    "clg_coil_name = f\"{ahu_name}-Clg_Coil\"\n",
    "clg_coil_binding_dict = {\"name\": BLDG[clg_coil_name]}\n",
    "clg_coil_graph = clg_coil_template.evaluate(clg_coil_binding_dict)\n",
    "model.add_graph(clg_coil_graph)\n",
    "\n",
    "# connect fan, damper, and clg coil to AHU\n",
    "model.graph.add((BLDG[ahu_name], BRICK.hasPart, BLDG[oa_ra_damper_name]))\n",
    "model.graph.add((BLDG[ahu_name], BRICK.hasPart, BLDG[fan_name]))\n",
    "model.graph.add((BLDG[ahu_name], BRICK.hasPart, BLDG[clg_coil_name]))\n",
    "\"\"\"\n",
    "# print model to confirm components were added and connected\n",
    "print(model.graph.serialize())\n"
   ]
  },
  {
   "cell_type": "code",
   "execution_count": 126,
   "id": "5d1b57e5",
   "metadata": {},
   "outputs": [
    {
     "data": {
      "text/plain": [
       "<Graph identifier=af1cbf87-1c0e-4867-9431-e67e0dc98d98 (<class 'rdflib.graph.Graph'>)>"
      ]
     },
     "execution_count": 126,
     "metadata": {},
     "output_type": "execute_result"
    }
   ],
   "source": [
    "#save model\n",
    "model.graph.serialize(destination=\"sample_building_model.ttl\")"
   ]
  },
  {
   "cell_type": "markdown",
   "id": "c485bd98",
   "metadata": {},
   "source": [
    "# LP: Adding volttron topics using ref schema"
   ]
  },
  {
   "cell_type": "code",
   "execution_count": 127,
   "id": "46072001",
   "metadata": {},
   "outputs": [],
   "source": [
    "from buildingmotif.namespaces import REF\n",
    "model.graph.bind(\"ref\", REF)"
   ]
  },
  {
   "cell_type": "code",
   "execution_count": 128,
   "id": "dd44cbc4",
   "metadata": {},
   "outputs": [],
   "source": [
    "# VLTT = Namespace('https://www.doesntexist.org/volttronsemantics#')\n",
    "# model.graph.bind(\"VLTT\", VLTT)\n",
    "# vltt = Library.load(ontology_graph=\"../../files/volttron_templates.ttl\")\n",
    "# vltt_ref_template = vltt.get_template_by_name(VLTT.VolttronReference)"
   ]
  },
  {
   "cell_type": "code",
   "execution_count": 129,
   "id": "d40934fa",
   "metadata": {},
   "outputs": [],
   "source": [
    "ref_template = brick.get_template_by_name(REF.TimeseriesReference)"
   ]
  },
  {
   "cell_type": "code",
   "execution_count": 130,
   "id": "47d452ae",
   "metadata": {},
   "outputs": [],
   "source": [
    "# ref_name = f\"volttrontopicname\"\n",
    "# ref_binding_dict = {\"name\": BLDG[ref_name], \"p12\":  Literal('this/is/topic')}\n",
    "# ref_graph = ref_template.evaluate(ref_binding_dict)\n",
    "# ref_graph.serialize()"
   ]
  },
  {
   "cell_type": "code",
   "execution_count": 131,
   "id": "d93fcb6d",
   "metadata": {},
   "outputs": [
    {
     "ename": "AttributeError",
     "evalue": "'Graph' object has no attribute 'parameters'",
     "output_type": "error",
     "traceback": [
      "\u001b[0;31m---------------------------------------------------------------------------\u001b[0m",
      "\u001b[0;31mAttributeError\u001b[0m                            Traceback (most recent call last)",
      "Cell \u001b[0;32mIn[131], line 1\u001b[0m\n\u001b[0;32m----> 1\u001b[0m ref_template\u001b[39m.\u001b[39;49mevaluate(ref_binding_dict)\u001b[39m.\u001b[39;49mparameters\n",
      "\u001b[0;31mAttributeError\u001b[0m: 'Graph' object has no attribute 'parameters'"
     ]
    }
   ],
   "source": [
    "ref_template.evaluate(ref_binding_dict).parameters"
   ]
  },
  {
   "cell_type": "code",
   "execution_count": 132,
   "id": "49152757",
   "metadata": {},
   "outputs": [],
   "source": [
    "for i, row in df.iterrows():\n",
    "    if row['relation'] == 'hasPoint':\n",
    "        # ref_binding_dict = {\"name\": BLDG[row['pointURI'] + '.id'], \"p12\":  Literal(row['topic'])}\n",
    "        ref_binding_dict = {\"name\": BLDG[row['objectURI'] + '.id'], \"p27\":  Literal(row['topic'])}\n",
    "        model.add_graph(ref_template.evaluate(ref_binding_dict))\n",
    "        model.graph.add((BLDG[row['objectURI']], REF['hasExternalReference'], BLDG[row['objectURI'] + '.id']))"
   ]
  },
  {
   "cell_type": "code",
   "execution_count": 133,
   "id": "9913b5e8",
   "metadata": {},
   "outputs": [
    {
     "data": {
      "text/plain": [
       "<Graph identifier=af1cbf87-1c0e-4867-9431-e67e0dc98d98 (<class 'rdflib.graph.Graph'>)>"
      ]
     },
     "execution_count": 133,
     "metadata": {},
     "output_type": "execute_result"
    }
   ],
   "source": [
    "model.graph.serialize(destination=\"building_model.ttl\")"
   ]
  },
  {
   "cell_type": "code",
   "execution_count": 192,
   "id": "5c2b4366",
   "metadata": {},
   "outputs": [],
   "source": [
    "query = \"\"\"\n",
    "SELECT DISTINCT ?zone ?equip ?Tid ?Tsetid\n",
    "WHERE {\n",
    "    ?zone a brick:HVAC_Zone .\n",
    "    ?equip brick:feeds ?zone ;\n",
    "    a brick:FCU ;\n",
    "    brick:hasPoint ?T, ?Tset .\n",
    "\n",
    "    ?T a brick:Air_Temperature_Sensor ;\n",
    "      ref:hasExternalReference/ref:hasTimeseriesId ?Tid  .\n",
    "\n",
    "    ?TSet a brick:Air_Temperature_Setpoint ;\n",
    "      ref:hasExternalReference/ref:hasTimeseriesId ?TSetid  .\n",
    "    \n",
    "}\"\"\"\n"
   ]
  },
  {
   "cell_type": "code",
   "execution_count": 193,
   "id": "e1095422",
   "metadata": {},
   "outputs": [],
   "source": [
    "a = model.graph.query(query)"
   ]
  },
  {
   "cell_type": "code",
   "execution_count": 194,
   "id": "59006b7b",
   "metadata": {},
   "outputs": [
    {
     "name": "stdout",
     "output_type": "stream",
     "text": [
      "(rdflib.term.URIRef('test:building/Zone1'), rdflib.term.URIRef('test:building/FCU1'), rdflib.term.Literal('sensibo/FCU1/temperature'), None)\n",
      "(rdflib.term.URIRef('test:building/Zone1'), rdflib.term.URIRef('test:building/FCU2'), rdflib.term.Literal('sensibo/FCU2/temperature'), None)\n",
      "(rdflib.term.URIRef('test:building/Zone1'), rdflib.term.URIRef('test:building/FCU3'), rdflib.term.Literal('sensibo/FCU3/temperature'), None)\n",
      "(rdflib.term.URIRef('test:building/Zone1'), rdflib.term.URIRef('test:building/FCU4'), rdflib.term.Literal('sensibo/FCU4/temperature'), None)\n",
      "(rdflib.term.URIRef('test:building/Zone1'), rdflib.term.URIRef('test:building/FCU5'), rdflib.term.Literal('sensibo/FCU5/temperature'), None)\n"
     ]
    }
   ],
   "source": [
    "for row in a:\n",
    "    print(row)"
   ]
  },
  {
   "cell_type": "code",
   "execution_count": null,
   "id": "ba93c205",
   "metadata": {},
   "outputs": [],
   "source": []
  },
  {
   "cell_type": "code",
   "execution_count": null,
   "id": "1825ea22",
   "metadata": {},
   "outputs": [],
   "source": []
  }
 ],
 "metadata": {
  "kernelspec": {
   "display_name": "base",
   "language": "python",
   "name": "python3"
  },
  "language_info": {
   "codemirror_mode": {
    "name": "ipython",
    "version": 3
   },
   "file_extension": ".py",
   "mimetype": "text/x-python",
   "name": "python",
   "nbconvert_exporter": "python",
   "pygments_lexer": "ipython3",
   "version": "3.8.3"
  },
  "vscode": {
   "interpreter": {
    "hash": "4256a7c48e0d05b8c5d9035f2da9ccd67848a8ce35912b30e9695a74575e054a"
   }
  }
 },
 "nbformat": 4,
 "nbformat_minor": 5
}
