{
 "cells": [
  {
   "cell_type": "code",
   "execution_count": 36,
   "id": "586e60c7",
   "metadata": {},
   "outputs": [],
   "source": [
    "from buildingmotif import BuildingMOTIF\n",
    "bm = BuildingMOTIF(\"sqlite://\") # in-memory instance"
   ]
  },
  {
   "cell_type": "code",
   "execution_count": 37,
   "id": "178a30f4",
   "metadata": {},
   "outputs": [],
   "source": [
    "from rdflib import Namespace\n",
    "from buildingmotif.dataclasses import Model\n",
    "\n",
    "# create the namespace\n",
    "BLDG = Namespace('test:building/')\n",
    "\n",
    "# Create the model! This will raise an exception if the namespace is not syntactically valid.\n",
    "model = Model.create(BLDG, description=\"This is a test model for a simple building\") "
   ]
  },
  {
   "cell_type": "code",
   "execution_count": 38,
   "id": "9178ec87",
   "metadata": {},
   "outputs": [
    {
     "name": "stdout",
     "output_type": "stream",
     "text": [
      "@prefix owl: <http://www.w3.org/2002/07/owl#> .\n",
      "\n",
      "<test:building/> a owl:Ontology .\n",
      "\n",
      "\n"
     ]
    }
   ],
   "source": [
    "print(model.graph.serialize())"
   ]
  },
  {
   "cell_type": "markdown",
   "id": "9bcc4203",
   "metadata": {},
   "source": [
    "# Loading Libraries"
   ]
  },
  {
   "cell_type": "code",
   "execution_count": 39,
   "id": "2de4ee6f",
   "metadata": {},
   "outputs": [
    {
     "name": "stderr",
     "output_type": "stream",
     "text": [
      "2023-01-13 11:44:12,996 | root |  WARNING: Warning: could not find dependee http://data.ashrae.org/bacnet/2020#BACnetDevice\n",
      "2023-01-13 11:44:12,997 | root |  WARNING: Warning: could not find dependee https://brickschema.org/schema/Brick/ref#ifcProject\n"
     ]
    },
    {
     "name": "stdout",
     "output_type": "stream",
     "text": [
      "The Brick library contains the following templates:\n",
      "  - https://brickschema.org/schema/Brick#Intercom_Equipment\n",
      "  - https://brickschema.org/schema/Brick#Static_Pressure_Deadband_Setpoint\n",
      "  - https://brickschema.org/schema/Brick#Warm_Cool_Adjust_Sensor\n",
      "  - https://brickschema.org/schema/Brick#Max_Load_Setpoint\n",
      "  - https://brickschema.org/schema/Brick#Manual_Auto_Status\n",
      "  - https://brickschema.org/schema/Brick#Enable_Differential_Enthalpy_Command\n",
      "  - https://brickschema.org/schema/Brick#Frost_Sensor\n",
      "  - https://brickschema.org/schema/Brick#Return_Fan\n",
      "  - https://brickschema.org/schema/Brick#IlluminanceShape\n",
      "  - https://brickschema.org/schema/Brick#Radon_ConcentrationShape\n"
     ]
    }
   ],
   "source": [
    "# load a library\n",
    "from buildingmotif.dataclasses import Library\n",
    "brick = Library.load(ontology_graph=\"Brick-full.ttl\")\n",
    "\n",
    "# print the first 10 templates\n",
    "print(\"The Brick library contains the following templates:\")\n",
    "for template in brick.get_templates()[:10]:\n",
    "    print(f\"  - {template.name}\")\n",
    "    "
   ]
  },
  {
   "cell_type": "markdown",
   "id": "628c23d4",
   "metadata": {},
   "source": [
    "# Exploring a Template"
   ]
  },
  {
   "cell_type": "code",
   "execution_count": 40,
   "id": "828a36eb",
   "metadata": {},
   "outputs": [
    {
     "data": {
      "text/plain": [
       "'\\n# get template\\nahu_template = brick.get_template_by_name(BRICK.AHU)\\n\\n\\n\\nprint(ahu_template)\\n# print template parameters\\n\\nprint(\"The template has the following parameters:\")\\nfor param in ahu_template.parameters:\\n    print(f\"  {param}\")\\n'"
      ]
     },
     "execution_count": 40,
     "metadata": {},
     "output_type": "execute_result"
    }
   ],
   "source": [
    "# import this to make writing URIs easier\n",
    "from buildingmotif.namespaces import BRICK\n",
    "\n",
    "\n",
    "\"\"\"\n",
    "# get template\n",
    "ahu_template = brick.get_template_by_name(BRICK.AHU)\n",
    "\n",
    "\n",
    "\n",
    "print(ahu_template)\n",
    "# print template parameters\n",
    "\n",
    "print(\"The template has the following parameters:\")\n",
    "for param in ahu_template.parameters:\n",
    "    print(f\"  {param}\")\n",
    "\"\"\""
   ]
  },
  {
   "cell_type": "code",
   "execution_count": 41,
   "id": "ea9b13e4",
   "metadata": {},
   "outputs": [],
   "source": [
    "#print(ahu_template.body.serialize())\n"
   ]
  },
  {
   "cell_type": "markdown",
   "id": "c94b08be",
   "metadata": {},
   "source": [
    "# Evaluating a Template"
   ]
  },
  {
   "cell_type": "code",
   "execution_count": 42,
   "id": "fd150162",
   "metadata": {},
   "outputs": [
    {
     "data": {
      "text/plain": [
       "'\\nahu_name = \"AHU_AC\"\\nahu_binding_dict = {\"name\": BLDG[ahu_name]}\\nahu_graph = ahu_template.evaluate(ahu_binding_dict)\\n\\n# ahu_graph is just an instance of rdflib.Graph\\nprint(ahu_graph.serialize())\\n'"
      ]
     },
     "execution_count": 42,
     "metadata": {},
     "output_type": "execute_result"
    }
   ],
   "source": [
    "\"\"\"\n",
    "ahu_name = \"AHU_AC\"\n",
    "ahu_binding_dict = {\"name\": BLDG[ahu_name]}\n",
    "ahu_graph = ahu_template.evaluate(ahu_binding_dict)\n",
    "\n",
    "# ahu_graph is just an instance of rdflib.Graph\n",
    "print(ahu_graph.serialize())\n",
    "\"\"\""
   ]
  },
  {
   "cell_type": "markdown",
   "id": "de947744",
   "metadata": {},
   "source": [
    "# Adding Evaluated Templates to the Model"
   ]
  },
  {
   "cell_type": "code",
   "execution_count": 43,
   "id": "5fbdd724",
   "metadata": {},
   "outputs": [
    {
     "data": {
      "text/plain": [
       "'\\nmodel.add_graph(ahu_graph)\\nprint(model.graph.serialize())\\n'"
      ]
     },
     "execution_count": 43,
     "metadata": {},
     "output_type": "execute_result"
    }
   ],
   "source": [
    "\"\"\"\n",
    "model.add_graph(ahu_graph)\n",
    "print(model.graph.serialize())\n",
    "\"\"\""
   ]
  },
  {
   "cell_type": "code",
   "execution_count": null,
   "id": "3dede090",
   "metadata": {},
   "outputs": [],
   "source": []
  },
  {
   "cell_type": "code",
   "execution_count": 44,
   "id": "3162eb9a",
   "metadata": {},
   "outputs": [],
   "source": [
    "import matplotlib.pyplot as plt\n",
    "import numpy as np\n",
    "import pandas as pd"
   ]
  },
  {
   "cell_type": "code",
   "execution_count": 45,
   "id": "010e5da6",
   "metadata": {},
   "outputs": [
    {
     "name": "stdout",
     "output_type": "stream",
     "text": [
      "   subjectURI     brick_class relation   objectURI   brick_class.1\n",
      "0        FCU1             FCU    feeds       Zone1       HVAC_Zone\n",
      "1        FCU2             FCU    feeds       Zone1       HVAC_Zone\n",
      "2        FCU3             FCU    feeds       Zone1       HVAC_Zone\n",
      "3        FCU4             FCU    feeds       Zone1       HVAC_Zone\n",
      "4        FCU5             FCU    feeds       Zone1       HVAC_Zone\n",
      "5    Furnace1  HVAC_Equipment    feeds       Zone1       HVAC_Zone\n",
      "6    Furnace2  HVAC_Equipment    feeds       Zone1       HVAC_Zone\n",
      "7    Furnace1  HVAC_Equipment  hasPart     Boiler1          Boiler\n",
      "8    Furnace1  HVAC_Equipment  hasPart        Fan1             Fan\n",
      "9    Furnace1  HVAC_Equipment  hasPart     HeatEx1  Heat_Exchanger\n",
      "10   Furnace2  HVAC_Equipment  hasPart     Boiler2          Boiler\n",
      "11   Furnace2  HVAC_Equipment  hasPart        Fan2             Fan\n",
      "12   Furnace2  HVAC_Equipment  hasPart     HeatEx2  Heat_Exchanger\n",
      "13    Boiler1          Boiler    feeds     HeatEx1  Heat_Exchanger\n",
      "14    HeatEx1  Heat_Exchanger    feeds        Fan1             Fan\n",
      "15    Boiler2          Boiler    feeds     HeatEx2  Heat_Exchanger\n",
      "16    HeatEx2  Heat_Exchanger    feeds        Fan2             Fan\n",
      "17       Bldg        Building  hasPart      Office          Office\n",
      "18       Bldg        Building  hasPart  AdminSpace           Space\n",
      "19      Zone1       HVAC_Zone  hasPart      Office          Office\n",
      "20      Zone1       HVAC_Zone  hasPart  AdminSpace           Space\n"
     ]
    }
   ],
   "source": [
    "df=pd.read_csv('entity_relations_v3.csv')\n",
    "print(df)"
   ]
  },
  {
   "cell_type": "code",
   "execution_count": 46,
   "id": "bb8421a8",
   "metadata": {},
   "outputs": [],
   "source": [
    "import re\n",
    "def uni_encode(mystring):\n",
    "    mystring=str(mystring)\n",
    "    mystring=re.sub(r'[^\\w\\s]', '', mystring)\n",
    "    mynewstring=mystring.replace(\" \", \"_\")\n",
    "    return mynewstring\n",
    "df=df.applymap(lambda x: uni_encode(x) if pd.notnull(x) else x)"
   ]
  },
  {
   "cell_type": "code",
   "execution_count": 47,
   "id": "8c8b4d77",
   "metadata": {},
   "outputs": [],
   "source": [
    "\n",
    "#print(equipment_template)"
   ]
  },
  {
   "cell_type": "code",
   "execution_count": 48,
   "id": "8a62fb46",
   "metadata": {},
   "outputs": [],
   "source": [
    "length_dataframe=len(df)\n",
    "#print(length_dataframe)\n",
    "\n",
    "for row_df in range(0,length_dataframe):\n",
    "    for column_df in [0,3]:\n",
    "        brick_class=df.iloc[row_df,column_df+1]\n",
    "        dummy_code = f\"equipment_template= brick.get_template_by_name(BRICK.{brick_class})\"\n",
    "        exec(dummy_code)\n",
    "        equipment_name =df.iloc[row_df,column_df]\n",
    "        equipment_binding_dict = {\"name\": BLDG[equipment_name]}\n",
    "        equipment_graph = equipment_template.evaluate(equipment_binding_dict)\n",
    "        model.add_graph(equipment_graph)\n",
    "\n",
    "\n"
   ]
  },
  {
   "cell_type": "code",
   "execution_count": 49,
   "id": "b0523d65",
   "metadata": {},
   "outputs": [],
   "source": [
    "for row_df in range(0,length_dataframe):\n",
    "    equipment_name1 =df.iloc[row_df,0]\n",
    "    equipment_name2 =df.iloc[row_df,3]\n",
    "    BRICK_relation=df.iloc[row_df,2]\n",
    "    dummy_code=f\"model.graph.add((BLDG['{equipment_name1}'], BRICK.{BRICK_relation}, BLDG['{equipment_name2}']))\"\n",
    "    exec(dummy_code)"
   ]
  },
  {
   "cell_type": "code",
   "execution_count": 50,
   "id": "4ebda605",
   "metadata": {},
   "outputs": [
    {
     "name": "stdout",
     "output_type": "stream",
     "text": [
      "@prefix brick: <https://brickschema.org/schema/Brick#> .\n",
      "@prefix owl: <http://www.w3.org/2002/07/owl#> .\n",
      "\n",
      "<test:building/> a owl:Ontology .\n",
      "\n",
      "<test:building/Bldg> a brick:Building ;\n",
      "    brick:hasPart <test:building/AdminSpace>,\n",
      "        <test:building/Office> .\n",
      "\n",
      "<test:building/FCU1> a brick:FCU ;\n",
      "    brick:feeds <test:building/Zone1> .\n",
      "\n",
      "<test:building/FCU2> a brick:FCU ;\n",
      "    brick:feeds <test:building/Zone1> .\n",
      "\n",
      "<test:building/FCU3> a brick:FCU ;\n",
      "    brick:feeds <test:building/Zone1> .\n",
      "\n",
      "<test:building/FCU4> a brick:FCU ;\n",
      "    brick:feeds <test:building/Zone1> .\n",
      "\n",
      "<test:building/FCU5> a brick:FCU ;\n",
      "    brick:feeds <test:building/Zone1> .\n",
      "\n",
      "<test:building/Furnace1> a brick:HVAC_Equipment ;\n",
      "    brick:feeds <test:building/Zone1> ;\n",
      "    brick:hasPart <test:building/Boiler1>,\n",
      "        <test:building/Fan1>,\n",
      "        <test:building/HeatEx1> .\n",
      "\n",
      "<test:building/Furnace2> a brick:HVAC_Equipment ;\n",
      "    brick:feeds <test:building/Zone1> ;\n",
      "    brick:hasPart <test:building/Boiler2>,\n",
      "        <test:building/Fan2>,\n",
      "        <test:building/HeatEx2> .\n",
      "\n",
      "<test:building/Boiler1> a brick:Boiler ;\n",
      "    brick:feeds <test:building/HeatEx1> .\n",
      "\n",
      "<test:building/Boiler2> a brick:Boiler ;\n",
      "    brick:feeds <test:building/HeatEx2> .\n",
      "\n",
      "<test:building/AdminSpace> a brick:Space .\n",
      "\n",
      "<test:building/Fan1> a brick:Fan .\n",
      "\n",
      "<test:building/Fan2> a brick:Fan .\n",
      "\n",
      "<test:building/HeatEx1> a brick:Heat_Exchanger ;\n",
      "    brick:feeds <test:building/Fan1> .\n",
      "\n",
      "<test:building/HeatEx2> a brick:Heat_Exchanger ;\n",
      "    brick:feeds <test:building/Fan2> .\n",
      "\n",
      "<test:building/Office> a brick:Office .\n",
      "\n",
      "<test:building/Zone1> a brick:HVAC_Zone ;\n",
      "    brick:hasPart <test:building/AdminSpace>,\n",
      "        <test:building/Office> .\n",
      "\n",
      "\n"
     ]
    }
   ],
   "source": [
    "\"\"\"\n",
    "\n",
    "# templates\n",
    "oa_ra_damper_template = brick.get_template_by_name(BRICK.Damper)\n",
    "fan_template = brick.get_template_by_name(BRICK.Supply_Fan)\n",
    "clg_coil_template = brick.get_template_by_name(BRICK.Cooling_Coil)\n",
    "\n",
    "# add fan\n",
    "fan_name = f\"{ahu_name}-Fan\"\n",
    "fan_binding_dict = {\"name\": BLDG[fan_name]}\n",
    "fan_graph = fan_template.evaluate(fan_binding_dict)\n",
    "model.add_graph(fan_graph)\n",
    "\n",
    "# add outdoor air/return air damper\n",
    "oa_ra_damper_name = f\"{ahu_name}-Damper\"\n",
    "oa_ra_damper_binding_dict = {\"name\": BLDG[oa_ra_damper_name]}\n",
    "oa_ra_damper_graph = oa_ra_damper_template.evaluate(oa_ra_damper_binding_dict)\n",
    "model.add_graph(oa_ra_damper_graph)\n",
    "\n",
    "# add clg coil\n",
    "clg_coil_name = f\"{ahu_name}-Clg_Coil\"\n",
    "clg_coil_binding_dict = {\"name\": BLDG[clg_coil_name]}\n",
    "clg_coil_graph = clg_coil_template.evaluate(clg_coil_binding_dict)\n",
    "model.add_graph(clg_coil_graph)\n",
    "\n",
    "# connect fan, damper, and clg coil to AHU\n",
    "model.graph.add((BLDG[ahu_name], BRICK.hasPart, BLDG[oa_ra_damper_name]))\n",
    "model.graph.add((BLDG[ahu_name], BRICK.hasPart, BLDG[fan_name]))\n",
    "model.graph.add((BLDG[ahu_name], BRICK.hasPart, BLDG[clg_coil_name]))\n",
    "\"\"\"\n",
    "# print model to confirm components were added and connected\n",
    "print(model.graph.serialize())\n"
   ]
  },
  {
   "cell_type": "code",
   "execution_count": 51,
   "id": "5d1b57e5",
   "metadata": {},
   "outputs": [
    {
     "data": {
      "text/plain": [
       "<Graph identifier=7564883c-0911-49f1-a985-da954caf72b8 (<class 'rdflib.graph.Graph'>)>"
      ]
     },
     "execution_count": 51,
     "metadata": {},
     "output_type": "execute_result"
    }
   ],
   "source": [
    "#save model\n",
    "model.graph.serialize(destination=\"sample_building_model.ttl\")"
   ]
  },
  {
   "cell_type": "code",
   "execution_count": null,
   "id": "c485bd98",
   "metadata": {},
   "outputs": [],
   "source": []
  },
  {
   "cell_type": "code",
   "execution_count": null,
   "id": "46072001",
   "metadata": {},
   "outputs": [],
   "source": []
  },
  {
   "cell_type": "code",
   "execution_count": null,
   "id": "da18f081",
   "metadata": {},
   "outputs": [],
   "source": []
  }
 ],
 "metadata": {
  "kernelspec": {
   "display_name": "Python 3 (ipykernel)",
   "language": "python",
   "name": "python3"
  },
  "language_info": {
   "codemirror_mode": {
    "name": "ipython",
    "version": 3
   },
   "file_extension": ".py",
   "mimetype": "text/x-python",
   "name": "python",
   "nbconvert_exporter": "python",
   "pygments_lexer": "ipython3",
   "version": "3.8.8"
  }
 },
 "nbformat": 4,
 "nbformat_minor": 5
}
