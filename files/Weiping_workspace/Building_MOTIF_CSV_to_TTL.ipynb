{
 "cells": [
  {
   "cell_type": "code",
   "execution_count": 1,
   "id": "586e60c7",
   "metadata": {},
   "outputs": [],
   "source": [
    "from buildingmotif import BuildingMOTIF\n",
    "bm = BuildingMOTIF(\"sqlite://\") # in-memory instance"
   ]
  },
  {
   "cell_type": "code",
   "execution_count": 2,
   "id": "178a30f4",
   "metadata": {},
   "outputs": [],
   "source": [
    "from rdflib import Namespace\n",
    "from buildingmotif.dataclasses import Model\n",
    "\n",
    "# create the namespace\n",
    "BLDG = Namespace('test:building/')\n",
    "\n",
    "# Create the model! This will raise an exception if the namespace is not syntactically valid.\n",
    "model = Model.create(BLDG, description=\"This is a test model for a simple building\") "
   ]
  },
  {
   "cell_type": "code",
   "execution_count": 3,
   "id": "9178ec87",
   "metadata": {},
   "outputs": [
    {
     "name": "stdout",
     "output_type": "stream",
     "text": [
      "@prefix owl: <http://www.w3.org/2002/07/owl#> .\n",
      "\n",
      "<test:building/> a owl:Ontology .\n",
      "\n",
      "\n"
     ]
    }
   ],
   "source": [
    "print(model.graph.serialize())"
   ]
  },
  {
   "cell_type": "markdown",
   "id": "9bcc4203",
   "metadata": {},
   "source": [
    "# Loading Libraries"
   ]
  },
  {
   "cell_type": "code",
   "execution_count": 4,
   "id": "2de4ee6f",
   "metadata": {},
   "outputs": [
    {
     "name": "stderr",
     "output_type": "stream",
     "text": [
      "/Users/huangwp/opt/anaconda3/lib/python3.8/site-packages/pkg_resources/__init__.py:123: PkgResourcesDeprecationWarning: rkzeug is an invalid version and will not be supported in a future release\n",
      "  warnings.warn(\n",
      "2023-01-13 14:42:57,075 | root |  WARNING: Warning: could not find dependee http://data.ashrae.org/bacnet/2020#BACnetDevice\n",
      "2023-01-13 14:42:57,076 | root |  WARNING: Warning: could not find dependee https://brickschema.org/schema/Brick/ref#ifcProject\n"
     ]
    },
    {
     "name": "stdout",
     "output_type": "stream",
     "text": [
      "The Brick library contains the following templates:\n",
      "  - https://brickschema.org/schema/Brick#Cooling_Tower_Fan\n",
      "  - https://brickschema.org/schema/Brick#Chilled_Water_Flow_Setpoint\n",
      "  - https://brickschema.org/schema/Brick#MDF\n",
      "  - https://brickschema.org/schema/Brick#Security_Service_Room\n",
      "  - https://brickschema.org/schema/Brick#Thermostatic_Mixing_Valve\n",
      "  - https://brickschema.org/schema/Brick#Outside_Air_Wet_Bulb_Temperature_Sensor\n",
      "  - https://brickschema.org/schema/Brick#Speed_Command\n",
      "  - https://brickschema.org/schema/Brick#Effective_Zone_Air_Temperature_Setpoint\n",
      "  - https://brickschema.org/schema/Brick#Leaving_Hot_Water_Flow_Setpoint\n",
      "  - https://brickschema.org/schema/Brick#Chilled_Water_System\n"
     ]
    }
   ],
   "source": [
    "# load a library\n",
    "from buildingmotif.dataclasses import Library\n",
    "brick = Library.load(ontology_graph=\"Brick-full.ttl\")\n",
    "\n",
    "# print the first 10 templates\n",
    "print(\"The Brick library contains the following templates:\")\n",
    "for template in brick.get_templates()[:10]:\n",
    "    print(f\"  - {template.name}\")\n",
    "    "
   ]
  },
  {
   "cell_type": "markdown",
   "id": "628c23d4",
   "metadata": {},
   "source": [
    "# Exploring a Template"
   ]
  },
  {
   "cell_type": "code",
   "execution_count": 23,
   "id": "828a36eb",
   "metadata": {},
   "outputs": [
    {
     "data": {
      "text/plain": [
       "'\\n# get template\\nahu_template = brick.get_template_by_name(BRICK.AHU)\\n\\n\\n\\nprint(ahu_template)\\n# print template parameters\\n\\nprint(\"The template has the following parameters:\")\\nfor param in ahu_template.parameters:\\n    print(f\"  {param}\")\\n'"
      ]
     },
     "execution_count": 23,
     "metadata": {},
     "output_type": "execute_result"
    }
   ],
   "source": [
    "# import this to make writing URIs easier\n",
    "from buildingmotif.namespaces import BRICK\n",
    "\n",
    "\n",
    "\"\"\"\n",
    "# get template\n",
    "ahu_template = brick.get_template_by_name(BRICK.AHU)\n",
    "\n",
    "\n",
    "\n",
    "print(ahu_template)\n",
    "# print template parameters\n",
    "\n",
    "print(\"The template has the following parameters:\")\n",
    "for param in ahu_template.parameters:\n",
    "    print(f\"  {param}\")\n",
    "\"\"\""
   ]
  },
  {
   "cell_type": "code",
   "execution_count": 24,
   "id": "ea9b13e4",
   "metadata": {},
   "outputs": [],
   "source": [
    "#print(ahu_template.body.serialize())\n"
   ]
  },
  {
   "cell_type": "markdown",
   "id": "c94b08be",
   "metadata": {},
   "source": [
    "# Evaluating a Template"
   ]
  },
  {
   "cell_type": "code",
   "execution_count": 25,
   "id": "fd150162",
   "metadata": {},
   "outputs": [
    {
     "data": {
      "text/plain": [
       "'\\nahu_name = \"AHU_AC\"\\nahu_binding_dict = {\"name\": BLDG[ahu_name]}\\nahu_graph = ahu_template.evaluate(ahu_binding_dict)\\n\\n# ahu_graph is just an instance of rdflib.Graph\\nprint(ahu_graph.serialize())\\n'"
      ]
     },
     "execution_count": 25,
     "metadata": {},
     "output_type": "execute_result"
    }
   ],
   "source": [
    "\"\"\"\n",
    "ahu_name = \"AHU_AC\"\n",
    "ahu_binding_dict = {\"name\": BLDG[ahu_name]}\n",
    "ahu_graph = ahu_template.evaluate(ahu_binding_dict)\n",
    "\n",
    "# ahu_graph is just an instance of rdflib.Graph\n",
    "print(ahu_graph.serialize())\n",
    "\"\"\""
   ]
  },
  {
   "cell_type": "markdown",
   "id": "de947744",
   "metadata": {},
   "source": [
    "# Adding Evaluated Templates to the Model"
   ]
  },
  {
   "cell_type": "code",
   "execution_count": 26,
   "id": "5fbdd724",
   "metadata": {},
   "outputs": [
    {
     "data": {
      "text/plain": [
       "'\\nmodel.add_graph(ahu_graph)\\nprint(model.graph.serialize())\\n'"
      ]
     },
     "execution_count": 26,
     "metadata": {},
     "output_type": "execute_result"
    }
   ],
   "source": [
    "\"\"\"\n",
    "model.add_graph(ahu_graph)\n",
    "print(model.graph.serialize())\n",
    "\"\"\""
   ]
  },
  {
   "cell_type": "code",
   "execution_count": null,
   "id": "3dede090",
   "metadata": {},
   "outputs": [],
   "source": []
  },
  {
   "cell_type": "code",
   "execution_count": 27,
   "id": "3162eb9a",
   "metadata": {},
   "outputs": [],
   "source": [
    "import matplotlib.pyplot as plt\n",
    "import numpy as np\n",
    "import pandas as pd"
   ]
  },
  {
   "cell_type": "code",
   "execution_count": 28,
   "id": "010e5da6",
   "metadata": {},
   "outputs": [
    {
     "name": "stdout",
     "output_type": "stream",
     "text": [
      "   subjectURI brick_class  relation          objectURI  \\\n",
      "0        FCU1         FCU     feeds              Zone1   \n",
      "1        FCU2         FCU     feeds              Zone1   \n",
      "2        FCU3         FCU     feeds              Zone1   \n",
      "3        FCU4         FCU     feeds              Zone1   \n",
      "4        FCU5         FCU     feeds              Zone1   \n",
      "..        ...         ...       ...                ...   \n",
      "64   Furnace2         AHU  hasPoint  actualTemperature   \n",
      "65   Furnace2         AHU  hasPoint     actualHumidity   \n",
      "66   Furnace2         AHU  hasPoint     rawTemperature   \n",
      "67   Furnace2         AHU  hasPoint     desiredFanMode   \n",
      "68   Furnace2         AHU  hasPoint   desiredHeatRange   \n",
      "\n",
      "                     brick_class.1  \n",
      "0                        HVAC_Zone  \n",
      "1                        HVAC_Zone  \n",
      "2                        HVAC_Zone  \n",
      "3                        HVAC_Zone  \n",
      "4                        HVAC_Zone  \n",
      "..                             ...  \n",
      "64          Air_Temperature_Sensor  \n",
      "65        Relative_Humidity_Sensor  \n",
      "66          Air_Temperature_Sensor  \n",
      "67                     Fan_Command  \n",
      "68  Air_Temperature_Setpoint_Limit  \n",
      "\n",
      "[69 rows x 5 columns]\n"
     ]
    }
   ],
   "source": [
    "df=pd.read_csv('entity_relations_v4.csv')\n",
    "print(df)"
   ]
  },
  {
   "cell_type": "code",
   "execution_count": 29,
   "id": "bb8421a8",
   "metadata": {},
   "outputs": [],
   "source": [
    "import re\n",
    "def uni_encode(mystring):\n",
    "    mystring=str(mystring)\n",
    "    mystring=re.sub(r'[^\\w\\s]', '', mystring)\n",
    "    mynewstring=mystring.replace(\" \", \"_\")\n",
    "    return mynewstring\n",
    "df=df.applymap(lambda x: uni_encode(x) if pd.notnull(x) else x)"
   ]
  },
  {
   "cell_type": "code",
   "execution_count": 30,
   "id": "8c8b4d77",
   "metadata": {},
   "outputs": [],
   "source": [
    "\n",
    "#print(equipment_template)"
   ]
  },
  {
   "cell_type": "code",
   "execution_count": 31,
   "id": "8a62fb46",
   "metadata": {},
   "outputs": [],
   "source": [
    "length_dataframe=len(df)\n",
    "#print(length_dataframe)\n",
    "\n",
    "for row_df in range(0,length_dataframe):\n",
    "    for column_df in [0,3]:\n",
    "        brick_class=df.iloc[row_df,column_df+1]\n",
    "        dummy_code = f\"equipment_template= brick.get_template_by_name(BRICK.{brick_class})\"\n",
    "        exec(dummy_code)\n",
    "        equipment_name =df.iloc[row_df,column_df]\n",
    "        equipment_binding_dict = {\"name\": BLDG[equipment_name]}\n",
    "        equipment_graph = equipment_template.evaluate(equipment_binding_dict)\n",
    "        model.add_graph(equipment_graph)\n",
    "\n",
    "\n"
   ]
  },
  {
   "cell_type": "code",
   "execution_count": 32,
   "id": "b0523d65",
   "metadata": {},
   "outputs": [],
   "source": [
    "for row_df in range(0,length_dataframe):\n",
    "    equipment_name1 =df.iloc[row_df,0]\n",
    "    equipment_name2 =df.iloc[row_df,3]\n",
    "    BRICK_relation=df.iloc[row_df,2]\n",
    "    dummy_code=f\"model.graph.add((BLDG['{equipment_name1}'], BRICK.{BRICK_relation}, BLDG['{equipment_name2}']))\"\n",
    "    exec(dummy_code)"
   ]
  },
  {
   "cell_type": "code",
   "execution_count": 33,
   "id": "4ebda605",
   "metadata": {},
   "outputs": [
    {
     "name": "stdout",
     "output_type": "stream",
     "text": [
      "@prefix brick: <https://brickschema.org/schema/Brick#> .\n",
      "@prefix owl: <http://www.w3.org/2002/07/owl#> .\n",
      "\n",
      "<test:building/> a owl:Ontology .\n",
      "\n",
      "<test:building/Bldg> a brick:Building ;\n",
      "    brick:hasPart <test:building/AdminSpace>,\n",
      "        <test:building/Office> .\n",
      "\n",
      "<test:building/FCU1> a brick:FCU ;\n",
      "    brick:feeds <test:building/Zone1> ;\n",
      "    brick:hasPoint <test:building/fanLevel>,\n",
      "        <test:building/mode>,\n",
      "        <test:building/on>,\n",
      "        <test:building/targetTemperature>,\n",
      "        <test:building/temperature>,\n",
      "        <test:building/timeOfTemperature> .\n",
      "\n",
      "<test:building/FCU2> a brick:FCU ;\n",
      "    brick:feeds <test:building/Zone1> ;\n",
      "    brick:hasPoint <test:building/fanLevel>,\n",
      "        <test:building/mode>,\n",
      "        <test:building/on>,\n",
      "        <test:building/targetTemperature>,\n",
      "        <test:building/temperature>,\n",
      "        <test:building/timeOfTemperature> .\n",
      "\n",
      "<test:building/FCU3> a brick:FCU ;\n",
      "    brick:feeds <test:building/Zone1> ;\n",
      "    brick:hasPoint <test:building/fanLevel>,\n",
      "        <test:building/mode>,\n",
      "        <test:building/on>,\n",
      "        <test:building/targetTemperature>,\n",
      "        <test:building/temperature>,\n",
      "        <test:building/timeOfTemperature> .\n",
      "\n",
      "<test:building/FCU4> a brick:FCU ;\n",
      "    brick:feeds <test:building/Zone1> ;\n",
      "    brick:hasPoint <test:building/fanLevel>,\n",
      "        <test:building/mode>,\n",
      "        <test:building/on>,\n",
      "        <test:building/targetTemperature>,\n",
      "        <test:building/temperature>,\n",
      "        <test:building/timeOfTemperature> .\n",
      "\n",
      "<test:building/FCU5> a brick:FCU ;\n",
      "    brick:feeds <test:building/Zone1> ;\n",
      "    brick:hasPoint <test:building/fanLevel>,\n",
      "        <test:building/mode>,\n",
      "        <test:building/on>,\n",
      "        <test:building/targetTemperature>,\n",
      "        <test:building/temperature>,\n",
      "        <test:building/timeOfTemperature> .\n",
      "\n",
      "<test:building/Furnace1> a brick:AHU ;\n",
      "    brick:feeds <test:building/Zone1> ;\n",
      "    brick:hasPart <test:building/Boiler1>,\n",
      "        <test:building/Fan1>,\n",
      "        <test:building/HeatEx1> ;\n",
      "    brick:hasPoint <test:building/actualHumidity>,\n",
      "        <test:building/actualTemperature>,\n",
      "        <test:building/desiredCool>,\n",
      "        <test:building/desiredFanMode>,\n",
      "        <test:building/desiredHeat>,\n",
      "        <test:building/desiredHeatRange>,\n",
      "        <test:building/humidity>,\n",
      "        <test:building/hvacMode>,\n",
      "        <test:building/rawTemperature> .\n",
      "\n",
      "<test:building/Furnace2> a brick:AHU ;\n",
      "    brick:feeds <test:building/Zone1> ;\n",
      "    brick:hasPart <test:building/Boiler2>,\n",
      "        <test:building/Fan2>,\n",
      "        <test:building/HeatEx2> ;\n",
      "    brick:hasPoint <test:building/actualHumidity>,\n",
      "        <test:building/actualTemperature>,\n",
      "        <test:building/desiredCool>,\n",
      "        <test:building/desiredFanMode>,\n",
      "        <test:building/desiredHeat>,\n",
      "        <test:building/desiredHeatRange>,\n",
      "        <test:building/humidity>,\n",
      "        <test:building/hvacMode>,\n",
      "        <test:building/rawTemperature> .\n",
      "\n",
      "<test:building/Boiler1> a brick:Boiler ;\n",
      "    brick:feeds <test:building/HeatEx1> .\n",
      "\n",
      "<test:building/Boiler2> a brick:Boiler ;\n",
      "    brick:feeds <test:building/HeatEx2> .\n",
      "\n",
      "<test:building/AdminSpace> a brick:Space .\n",
      "\n",
      "<test:building/Fan1> a brick:Fan .\n",
      "\n",
      "<test:building/Fan2> a brick:Fan .\n",
      "\n",
      "<test:building/HeatEx1> a brick:Heat_Exchanger ;\n",
      "    brick:feeds <test:building/Fan1> .\n",
      "\n",
      "<test:building/HeatEx2> a brick:Heat_Exchanger ;\n",
      "    brick:feeds <test:building/Fan2> .\n",
      "\n",
      "<test:building/Office> a brick:Office .\n",
      "\n",
      "<test:building/actualHumidity> a brick:Relative_Humidity_Sensor .\n",
      "\n",
      "<test:building/actualTemperature> a brick:Air_Temperature_Sensor .\n",
      "\n",
      "<test:building/desiredCool> a brick:Cooling_Temperature_Setpoint .\n",
      "\n",
      "<test:building/desiredFanMode> a brick:Fan_Command .\n",
      "\n",
      "<test:building/desiredHeat> a brick:Heating_Temperature_Setpoint .\n",
      "\n",
      "<test:building/desiredHeatRange> a brick:Air_Temperature_Setpoint_Limit .\n",
      "\n",
      "<test:building/humidity> a brick:Humidity_Setpoint .\n",
      "\n",
      "<test:building/hvacMode> a brick:Operating_Mode_Status .\n",
      "\n",
      "<test:building/rawTemperature> a brick:Air_Temperature_Sensor .\n",
      "\n",
      "<test:building/fanLevel> a brick:Fan_Status .\n",
      "\n",
      "<test:building/mode> a brick:Operating_Mode_Status .\n",
      "\n",
      "<test:building/on> a brick:On_Off_Status .\n",
      "\n",
      "<test:building/targetTemperature> a brick:Air_Temperature_Setpoint .\n",
      "\n",
      "<test:building/temperature> a brick:Air_Temperature_Sensor .\n",
      "\n",
      "<test:building/timeOfTemperature> a brick:Time_Parameter .\n",
      "\n",
      "<test:building/Zone1> a brick:HVAC_Zone ;\n",
      "    brick:hasPart <test:building/AdminSpace>,\n",
      "        <test:building/Office> .\n",
      "\n",
      "\n"
     ]
    }
   ],
   "source": [
    "\"\"\"\n",
    "\n",
    "# templates\n",
    "oa_ra_damper_template = brick.get_template_by_name(BRICK.Damper)\n",
    "fan_template = brick.get_template_by_name(BRICK.Supply_Fan)\n",
    "clg_coil_template = brick.get_template_by_name(BRICK.Cooling_Coil)\n",
    "\n",
    "# add fan\n",
    "fan_name = f\"{ahu_name}-Fan\"\n",
    "fan_binding_dict = {\"name\": BLDG[fan_name]}\n",
    "fan_graph = fan_template.evaluate(fan_binding_dict)\n",
    "model.add_graph(fan_graph)\n",
    "\n",
    "# add outdoor air/return air damper\n",
    "oa_ra_damper_name = f\"{ahu_name}-Damper\"\n",
    "oa_ra_damper_binding_dict = {\"name\": BLDG[oa_ra_damper_name]}\n",
    "oa_ra_damper_graph = oa_ra_damper_template.evaluate(oa_ra_damper_binding_dict)\n",
    "model.add_graph(oa_ra_damper_graph)\n",
    "\n",
    "# add clg coil\n",
    "clg_coil_name = f\"{ahu_name}-Clg_Coil\"\n",
    "clg_coil_binding_dict = {\"name\": BLDG[clg_coil_name]}\n",
    "clg_coil_graph = clg_coil_template.evaluate(clg_coil_binding_dict)\n",
    "model.add_graph(clg_coil_graph)\n",
    "\n",
    "# connect fan, damper, and clg coil to AHU\n",
    "model.graph.add((BLDG[ahu_name], BRICK.hasPart, BLDG[oa_ra_damper_name]))\n",
    "model.graph.add((BLDG[ahu_name], BRICK.hasPart, BLDG[fan_name]))\n",
    "model.graph.add((BLDG[ahu_name], BRICK.hasPart, BLDG[clg_coil_name]))\n",
    "\"\"\"\n",
    "# print model to confirm components were added and connected\n",
    "print(model.graph.serialize())\n"
   ]
  },
  {
   "cell_type": "code",
   "execution_count": 34,
   "id": "5d1b57e5",
   "metadata": {},
   "outputs": [
    {
     "data": {
      "text/plain": [
       "<Graph identifier=680decf5-b934-4f60-83fc-5e9dedb29b82 (<class 'rdflib.graph.Graph'>)>"
      ]
     },
     "execution_count": 34,
     "metadata": {},
     "output_type": "execute_result"
    }
   ],
   "source": [
    "#save model\n",
    "model.graph.serialize(destination=\"sample_building_model.ttl\")"
   ]
  },
  {
   "cell_type": "code",
   "execution_count": null,
   "id": "c485bd98",
   "metadata": {},
   "outputs": [],
   "source": []
  },
  {
   "cell_type": "code",
   "execution_count": null,
   "id": "46072001",
   "metadata": {},
   "outputs": [],
   "source": []
  },
  {
   "cell_type": "code",
   "execution_count": null,
   "id": "da18f081",
   "metadata": {},
   "outputs": [],
   "source": []
  }
 ],
 "metadata": {
  "kernelspec": {
   "display_name": "Python 3 (ipykernel)",
   "language": "python",
   "name": "python3"
  },
  "language_info": {
   "codemirror_mode": {
    "name": "ipython",
    "version": 3
   },
   "file_extension": ".py",
   "mimetype": "text/x-python",
   "name": "python",
   "nbconvert_exporter": "python",
   "pygments_lexer": "ipython3",
   "version": "3.8.8"
  }
 },
 "nbformat": 4,
 "nbformat_minor": 5
}
