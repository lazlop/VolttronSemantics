{
 "cells": [
  {
   "cell_type": "code",
   "execution_count": 1,
   "id": "586e60c7",
   "metadata": {},
   "outputs": [],
   "source": [
    "# import necessary BuildingMOTIF libraries\n",
    "from rdflib import Namespace\n",
    "from buildingmotif import BuildingMOTIF\n",
    "from buildingmotif.dataclasses import Model, Library\n",
    "from buildingmotif.namespaces import BRICK # import this to make writing URIs easier\n",
    "import matplotlib.pyplot as plt\n",
    "import numpy as np\n",
    "import pandas as pd\n",
    "import re"
   ]
  },
  {
   "cell_type": "code",
   "execution_count": 2,
   "id": "b2e75a69",
   "metadata": {},
   "outputs": [],
   "source": [
    "# Create an in-memory BuildingMOTIF instance\n",
    "bm = BuildingMOTIF(\"sqlite://\")"
   ]
  },
  {
   "cell_type": "code",
   "execution_count": 3,
   "id": "717a9b87",
   "metadata": {},
   "outputs": [],
   "source": [
    "# create the namespace for the building\n",
    "BLDG = Namespace('urn:bldg/')"
   ]
  },
  {
   "cell_type": "code",
   "execution_count": 4,
   "id": "fc7a7b05",
   "metadata": {},
   "outputs": [],
   "source": [
    "# Create the building model and add a description. Store the information in a variable \"model\"\n",
    "model = Model.create(BLDG, description=\"This is a test model for a simple building\")"
   ]
  },
  {
   "cell_type": "code",
   "execution_count": 5,
   "id": "9178ec87",
   "metadata": {},
   "outputs": [
    {
     "name": "stdout",
     "output_type": "stream",
     "text": [
      "@prefix owl: <http://www.w3.org/2002/07/owl#> .\n",
      "\n",
      "<urn:bldg/> a owl:Ontology .\n",
      "\n",
      "\n"
     ]
    }
   ],
   "source": [
    "# Print the current content of the \".ttl\" shape graph in \"model\"\n",
    "print(model.graph.serialize())"
   ]
  },
  {
   "cell_type": "code",
   "execution_count": 6,
   "id": "76cb9df6",
   "metadata": {},
   "outputs": [
    {
     "name": "stderr",
     "output_type": "stream",
     "text": [
      "/Users/huangwp/opt/anaconda3/lib/python3.8/site-packages/pkg_resources/__init__.py:123: PkgResourcesDeprecationWarning: rkzeug is an invalid version and will not be supported in a future release\n",
      "  warnings.warn(\n",
      "2023-01-19 09:38:58,803 | root |  WARNING: Warning: could not find dependee https://brickschema.org/schema/Brick/ref#ifcProject\n",
      "2023-01-19 09:38:58,804 | root |  WARNING: Warning: could not find dependee http://data.ashrae.org/bacnet/2020#BACnetDevice\n"
     ]
    }
   ],
   "source": [
    "# load the full BRICK library into the variable \"brick\"\n",
    "brick = Library.load(ontology_graph=\"Brick-full.ttl\")"
   ]
  },
  {
   "cell_type": "code",
   "execution_count": 7,
   "id": "2de4ee6f",
   "metadata": {},
   "outputs": [
    {
     "name": "stdout",
     "output_type": "stream",
     "text": [
      "The Brick library contains the following templates:\n",
      "  - https://brickschema.org/schema/Brick#Methane_Level_Sensor\n",
      "  - https://brickschema.org/schema/Brick#Discharge_Air_Temperature_Setpoint\n",
      "  - https://brickschema.org/schema/Brick#CO2_Sensor\n",
      "  - https://brickschema.org/schema/Brick#Entering_Condenser_Water_Temperature_Setpoint\n",
      "  - https://brickschema.org/schema/Brick#Reset_Command\n",
      "  - https://brickschema.org/schema/Brick#TimeShape\n",
      "  - https://brickschema.org/schema/Brick#Fire_Alarm\n",
      "  - https://brickschema.org/schema/Brick#Return_Air_Grains_Sensor\n",
      "  - https://brickschema.org/schema/Brick#Elevator_Space\n",
      "  - https://brickschema.org/schema/Brick#Meter\n"
     ]
    }
   ],
   "source": [
    "# print the first 10 templates in the BRICK library\n",
    "print(\"The Brick library contains the following templates:\")\n",
    "for template in brick.get_templates()[:10]:\n",
    "    print(f\"  - {template.name}\")\n",
    "    "
   ]
  },
  {
   "cell_type": "code",
   "execution_count": 8,
   "id": "010e5da6",
   "metadata": {},
   "outputs": [
    {
     "name": "stdout",
     "output_type": "stream",
     "text": [
      "   subjectURI brick_class  relation          objectURI  \\\n",
      "0        FCU1         FCU     feeds              Zone1   \n",
      "1        FCU2         FCU     feeds              Zone1   \n",
      "2        FCU3         FCU     feeds              Zone1   \n",
      "3        FCU4         FCU     feeds              Zone1   \n",
      "4        FCU5         FCU     feeds              Zone1   \n",
      "..        ...         ...       ...                ...   \n",
      "64   Furnace2         AHU  hasPoint  actualTemperature   \n",
      "65   Furnace2         AHU  hasPoint     actualHumidity   \n",
      "66   Furnace2         AHU  hasPoint     rawTemperature   \n",
      "67   Furnace2         AHU  hasPoint     desiredFanMode   \n",
      "68   Furnace2         AHU  hasPoint   desiredHeatRange   \n",
      "\n",
      "                     brick_class.1  \n",
      "0                        HVAC_Zone  \n",
      "1                        HVAC_Zone  \n",
      "2                        HVAC_Zone  \n",
      "3                        HVAC_Zone  \n",
      "4                        HVAC_Zone  \n",
      "..                             ...  \n",
      "64          Air_Temperature_Sensor  \n",
      "65        Relative_Humidity_Sensor  \n",
      "66          Air_Temperature_Sensor  \n",
      "67                     Fan_Command  \n",
      "68  Air_Temperature_Setpoint_Limit  \n",
      "\n",
      "[69 rows x 5 columns]\n"
     ]
    }
   ],
   "source": [
    "# First, we create an Excel table to express building equipment relations. This Excel table should consist of 5 columns.\n",
    "# The first column is the \"subject\" equipment. The second column is the \"subject\" equipment's BRICK class.\n",
    "# The third column is the BRICK relation, which can include \"feeds\", \"hasPart\", and \"hasPoint\".\n",
    "# The fourth column is the \"object\" equipment. The fifth column is the \"object\" equipment's BRICK class.\n",
    "# Save this Excel table as a \".csv\" document. Use Python Pandas to parse this .csv\" document.\n",
    "df=pd.read_csv('Excel_list_of_building_equipment_relations.csv')\n",
    "print(df)"
   ]
  },
  {
   "cell_type": "code",
   "execution_count": 9,
   "id": "bb8421a8",
   "metadata": {},
   "outputs": [],
   "source": [
    "# Using the Python \"re\" library, revise the Python Pandas dataset \"df\" in such a way that for all dataset entries,\n",
    "# the spaces are replaced with underscores, and all special characters are deleted\n",
    "def uni_encode(mystring):\n",
    "    mystring=str(mystring)\n",
    "    mystring=re.sub(r'[^\\w\\s]', '', mystring)\n",
    "    mynewstring=mystring.replace(\" \", \"_\")\n",
    "    return mynewstring\n",
    "df=df.applymap(lambda x: uni_encode(x) if pd.notnull(x) else x)"
   ]
  },
  {
   "cell_type": "code",
   "execution_count": 10,
   "id": "8a62fb46",
   "metadata": {},
   "outputs": [],
   "source": [
    "# Using BuildingMOTIF's \"model creation\" work flow, iterate the Python Pandas dataset (representing the \".csv\" document),\n",
    "# in order to add the BRICK classes for all pieces of equipment\n",
    "length_dataframe=len(df)\n",
    "for row_df in range(0,length_dataframe):\n",
    "    for column_df in [0,3]:\n",
    "        equipment_name =df.iloc[row_df,column_df] # first and fourth columns\n",
    "        equipment_brick_class=df.iloc[row_df,column_df+1] # second and fifth columns\n",
    "        dummy_code = f\"equipment_template= brick.get_template_by_name(BRICK.{equipment_brick_class})\"\n",
    "        exec(dummy_code)\n",
    "        equipment_binding_dict = {\"name\": BLDG[equipment_name]}\n",
    "        equipment_graph = equipment_template.evaluate(equipment_binding_dict)\n",
    "        model.add_graph(equipment_graph)\n",
    "\n",
    "\n"
   ]
  },
  {
   "cell_type": "code",
   "execution_count": 11,
   "id": "b0523d65",
   "metadata": {},
   "outputs": [],
   "source": [
    "# Add hasPart, hasPoint, and feeds relationships\n",
    "for row_df in range(0,length_dataframe):\n",
    "    equipment_name1 =df.iloc[row_df,0] # first column\n",
    "    equipment_name2 =df.iloc[row_df,3] # fourth column\n",
    "    BRICK_relation=df.iloc[row_df,2] # third column\n",
    "    dummy_code=f\"model.graph.add((BLDG['{equipment_name1}'], BRICK.{BRICK_relation}, BLDG['{equipment_name2}']))\"\n",
    "    exec(dummy_code)"
   ]
  },
  {
   "cell_type": "code",
   "execution_count": 12,
   "id": "4ebda605",
   "metadata": {},
   "outputs": [
    {
     "name": "stdout",
     "output_type": "stream",
     "text": [
      "@prefix brick: <https://brickschema.org/schema/Brick#> .\n",
      "@prefix owl: <http://www.w3.org/2002/07/owl#> .\n",
      "\n",
      "<urn:bldg/> a owl:Ontology .\n",
      "\n",
      "<urn:bldg/Bldg> a brick:Building ;\n",
      "    brick:hasPart <urn:bldg/AdminSpace>,\n",
      "        <urn:bldg/Office> .\n",
      "\n",
      "<urn:bldg/FCU1> a brick:FCU ;\n",
      "    brick:feeds <urn:bldg/Zone1> ;\n",
      "    brick:hasPoint <urn:bldg/fanLevel>,\n",
      "        <urn:bldg/mode>,\n",
      "        <urn:bldg/on>,\n",
      "        <urn:bldg/targetTemperature>,\n",
      "        <urn:bldg/temperature>,\n",
      "        <urn:bldg/timeOfTemperature> .\n",
      "\n",
      "<urn:bldg/FCU2> a brick:FCU ;\n",
      "    brick:feeds <urn:bldg/Zone1> ;\n",
      "    brick:hasPoint <urn:bldg/fanLevel>,\n",
      "        <urn:bldg/mode>,\n",
      "        <urn:bldg/on>,\n",
      "        <urn:bldg/targetTemperature>,\n",
      "        <urn:bldg/temperature>,\n",
      "        <urn:bldg/timeOfTemperature> .\n",
      "\n",
      "<urn:bldg/FCU3> a brick:FCU ;\n",
      "    brick:feeds <urn:bldg/Zone1> ;\n",
      "    brick:hasPoint <urn:bldg/fanLevel>,\n",
      "        <urn:bldg/mode>,\n",
      "        <urn:bldg/on>,\n",
      "        <urn:bldg/targetTemperature>,\n",
      "        <urn:bldg/temperature>,\n",
      "        <urn:bldg/timeOfTemperature> .\n",
      "\n",
      "<urn:bldg/FCU4> a brick:FCU ;\n",
      "    brick:feeds <urn:bldg/Zone1> ;\n",
      "    brick:hasPoint <urn:bldg/fanLevel>,\n",
      "        <urn:bldg/mode>,\n",
      "        <urn:bldg/on>,\n",
      "        <urn:bldg/targetTemperature>,\n",
      "        <urn:bldg/temperature>,\n",
      "        <urn:bldg/timeOfTemperature> .\n",
      "\n",
      "<urn:bldg/FCU5> a brick:FCU ;\n",
      "    brick:feeds <urn:bldg/Zone1> ;\n",
      "    brick:hasPoint <urn:bldg/fanLevel>,\n",
      "        <urn:bldg/mode>,\n",
      "        <urn:bldg/on>,\n",
      "        <urn:bldg/targetTemperature>,\n",
      "        <urn:bldg/temperature>,\n",
      "        <urn:bldg/timeOfTemperature> .\n",
      "\n",
      "<urn:bldg/Furnace1> a brick:AHU ;\n",
      "    brick:feeds <urn:bldg/Zone1> ;\n",
      "    brick:hasPart <urn:bldg/Boiler1>,\n",
      "        <urn:bldg/Fan1>,\n",
      "        <urn:bldg/HeatEx1> ;\n",
      "    brick:hasPoint <urn:bldg/actualHumidity>,\n",
      "        <urn:bldg/actualTemperature>,\n",
      "        <urn:bldg/desiredCool>,\n",
      "        <urn:bldg/desiredFanMode>,\n",
      "        <urn:bldg/desiredHeat>,\n",
      "        <urn:bldg/desiredHeatRange>,\n",
      "        <urn:bldg/humidity>,\n",
      "        <urn:bldg/hvacMode>,\n",
      "        <urn:bldg/rawTemperature> .\n",
      "\n",
      "<urn:bldg/Furnace2> a brick:AHU ;\n",
      "    brick:feeds <urn:bldg/Zone1> ;\n",
      "    brick:hasPart <urn:bldg/Boiler2>,\n",
      "        <urn:bldg/Fan2>,\n",
      "        <urn:bldg/HeatEx2> ;\n",
      "    brick:hasPoint <urn:bldg/actualHumidity>,\n",
      "        <urn:bldg/actualTemperature>,\n",
      "        <urn:bldg/desiredCool>,\n",
      "        <urn:bldg/desiredFanMode>,\n",
      "        <urn:bldg/desiredHeat>,\n",
      "        <urn:bldg/desiredHeatRange>,\n",
      "        <urn:bldg/humidity>,\n",
      "        <urn:bldg/hvacMode>,\n",
      "        <urn:bldg/rawTemperature> .\n",
      "\n",
      "<urn:bldg/Boiler1> a brick:Boiler ;\n",
      "    brick:feeds <urn:bldg/HeatEx1> .\n",
      "\n",
      "<urn:bldg/Boiler2> a brick:Boiler ;\n",
      "    brick:feeds <urn:bldg/HeatEx2> .\n",
      "\n",
      "<urn:bldg/AdminSpace> a brick:Space .\n",
      "\n",
      "<urn:bldg/Fan1> a brick:Fan .\n",
      "\n",
      "<urn:bldg/Fan2> a brick:Fan .\n",
      "\n",
      "<urn:bldg/HeatEx1> a brick:Heat_Exchanger ;\n",
      "    brick:feeds <urn:bldg/Fan1> .\n",
      "\n",
      "<urn:bldg/HeatEx2> a brick:Heat_Exchanger ;\n",
      "    brick:feeds <urn:bldg/Fan2> .\n",
      "\n",
      "<urn:bldg/Office> a brick:Office .\n",
      "\n",
      "<urn:bldg/actualHumidity> a brick:Relative_Humidity_Sensor .\n",
      "\n",
      "<urn:bldg/actualTemperature> a brick:Air_Temperature_Sensor .\n",
      "\n",
      "<urn:bldg/desiredCool> a brick:Cooling_Temperature_Setpoint .\n",
      "\n",
      "<urn:bldg/desiredFanMode> a brick:Fan_Command .\n",
      "\n",
      "<urn:bldg/desiredHeat> a brick:Heating_Temperature_Setpoint .\n",
      "\n",
      "<urn:bldg/desiredHeatRange> a brick:Air_Temperature_Setpoint_Limit .\n",
      "\n",
      "<urn:bldg/humidity> a brick:Humidity_Setpoint .\n",
      "\n",
      "<urn:bldg/hvacMode> a brick:Operating_Mode_Status .\n",
      "\n",
      "<urn:bldg/rawTemperature> a brick:Air_Temperature_Sensor .\n",
      "\n",
      "<urn:bldg/fanLevel> a brick:Fan_Status .\n",
      "\n",
      "<urn:bldg/mode> a brick:Operating_Mode_Status .\n",
      "\n",
      "<urn:bldg/on> a brick:On_Off_Status .\n",
      "\n",
      "<urn:bldg/targetTemperature> a brick:Air_Temperature_Setpoint .\n",
      "\n",
      "<urn:bldg/temperature> a brick:Air_Temperature_Sensor .\n",
      "\n",
      "<urn:bldg/timeOfTemperature> a brick:Time_Parameter .\n",
      "\n",
      "<urn:bldg/Zone1> a brick:HVAC_Zone ;\n",
      "    brick:hasPart <urn:bldg/AdminSpace>,\n",
      "        <urn:bldg/Office> .\n",
      "\n",
      "\n"
     ]
    }
   ],
   "source": [
    "# print model to confirm that components were added and connected\n",
    "print(model.graph.serialize())\n"
   ]
  },
  {
   "cell_type": "code",
   "execution_count": 13,
   "id": "5d1b57e5",
   "metadata": {},
   "outputs": [
    {
     "data": {
      "text/plain": [
       "<Graph identifier=9df97d08-c8b0-4030-8e9e-0dbe29678ed2 (<class 'rdflib.graph.Graph'>)>"
      ]
     },
     "execution_count": 13,
     "metadata": {},
     "output_type": "execute_result"
    }
   ],
   "source": [
    "#save BRICK \".csv\" model as a file named \"sample_building_model.ttl\"\n",
    "model.graph.serialize(destination=\"sample_building_model.ttl\")"
   ]
  },
  {
   "cell_type": "code",
   "execution_count": null,
   "id": "c485bd98",
   "metadata": {},
   "outputs": [],
   "source": []
  },
  {
   "cell_type": "code",
   "execution_count": null,
   "id": "46072001",
   "metadata": {},
   "outputs": [],
   "source": []
  },
  {
   "cell_type": "code",
   "execution_count": null,
   "id": "da18f081",
   "metadata": {},
   "outputs": [],
   "source": []
  }
 ],
 "metadata": {
  "kernelspec": {
   "display_name": "Python 3 (ipykernel)",
   "language": "python",
   "name": "python3"
  },
  "language_info": {
   "codemirror_mode": {
    "name": "ipython",
    "version": 3
   },
   "file_extension": ".py",
   "mimetype": "text/x-python",
   "name": "python",
   "nbconvert_exporter": "python",
   "pygments_lexer": "ipython3",
   "version": "3.8.8"
  }
 },
 "nbformat": 4,
 "nbformat_minor": 5
}
