{
 "cells": [
  {
   "cell_type": "code",
   "execution_count": 1,
   "metadata": {},
   "outputs": [],
   "source": [
    "from buildingmotif import BuildingMOTIF\n",
    "bm = BuildingMOTIF(\"sqlite://\") # in-memory instance\n",
    "from rdflib import Namespace\n",
    "from buildingmotif.dataclasses import Model\n",
    "\n",
    "# create the namespace\n",
    "BLDG = Namespace('urn:bldg/')\n",
    "\n",
    "# Create the model! This will raise an exception if the namespace is not syntactically valid.\n",
    "model = Model.create(BLDG, description=\"This is a test model for a simple building\") "
   ]
  },
  {
   "cell_type": "code",
   "execution_count": 2,
   "metadata": {},
   "outputs": [
    {
     "name": "stderr",
     "output_type": "stream",
     "text": [
      "/Users/lazlopaul/opt/anaconda3/lib/python3.8/site-packages/pkg_resources/__init__.py:123: PkgResourcesDeprecationWarning: 4.0.0-unsupported is an invalid version and will not be supported in a future release\n",
      "  warnings.warn(\n",
      "2023-01-13 12:20:01,780 | root |  WARNING: Warning: could not find dependee http://data.ashrae.org/bacnet/2020#BACnetDevice\n",
      "2023-01-13 12:20:01,780 | root |  WARNING: Warning: could not find dependee https://brickschema.org/schema/Brick/ref#ifcProject\n"
     ]
    },
    {
     "name": "stdout",
     "output_type": "stream",
     "text": [
      "The Brick library contains the following templates:\n",
      "  - https://brickschema.org/schema/Brick#Condenser_Water_Isolation_Valve\n",
      "  - https://brickschema.org/schema/Brick#Supply_Air_Flow_Setpoint\n",
      "  - https://brickschema.org/schema/Brick#Exhaust_Air_Flow_Proportional_Band_Parameter\n",
      "  - https://brickschema.org/schema/Brick#Space_Heater\n",
      "  - https://brickschema.org/schema/Brick#Building_Gas_Meter\n",
      "  - https://brickschema.org/schema/Brick#Hot_Water_Differential_Pressure_Deadband_Setpoint\n",
      "  - https://brickschema.org/schema/Brick#Leaving_Water_Temperature_Alarm\n",
      "  - https://brickschema.org/schema/Brick#Low_Temperature_Alarm\n",
      "  - https://brickschema.org/schema/Brick#Discharge_Air_Temperature_Cooling_Setpoint\n",
      "  - https://brickschema.org/schema/Brick#Max_Water_Temperature_Setpoint\n"
     ]
    }
   ],
   "source": [
    "# load a library\n",
    "from buildingmotif.dataclasses import Library\n",
    "brick = Library.load(ontology_graph=\"../BuildingMOTIF/libraries/brick/Brick-full.ttl\")\n",
    "\n",
    "# print the first 10 templates\n",
    "print(\"The Brick library contains the following templates:\")\n",
    "for template in brick.get_templates()[:10]:\n",
    "    print(f\"  - {template.name}\")"
   ]
  },
  {
   "cell_type": "code",
   "execution_count": 3,
   "metadata": {},
   "outputs": [
    {
     "name": "stdout",
     "output_type": "stream",
     "text": [
      "The template has the following parameters:\n",
      "  name\n"
     ]
    }
   ],
   "source": [
    "from buildingmotif.namespaces import BRICK\n",
    "ahu_template = brick.get_template_by_name(BRICK.AHU)\n",
    "# print template parameters\n",
    "print(\"The template has the following parameters:\")\n",
    "for param in ahu_template.parameters:\n",
    "    print(f\"  {param}\")"
   ]
  },
  {
   "cell_type": "code",
   "execution_count": 4,
   "metadata": {},
   "outputs": [
    {
     "name": "stdout",
     "output_type": "stream",
     "text": [
      "@prefix brick: <https://brickschema.org/schema/Brick#> .\n",
      "\n",
      "<urn:bldg/Furnace1> a brick:AHU .\n",
      "\n",
      "\n"
     ]
    }
   ],
   "source": [
    "ahu_name = \"Furnace1\"\n",
    "ahu_binding_dict = {\"name\": BLDG[ahu_name]}\n",
    "ahu_graph = ahu_template.evaluate(ahu_binding_dict)\n",
    "\n",
    "# ahu_graph is just an instance of rdflib.Graph\n",
    "print(ahu_graph.serialize())"
   ]
  },
  {
   "cell_type": "code",
   "execution_count": 5,
   "metadata": {},
   "outputs": [
    {
     "name": "stdout",
     "output_type": "stream",
     "text": [
      "@prefix brick: <https://brickschema.org/schema/Brick#> .\n",
      "@prefix owl: <http://www.w3.org/2002/07/owl#> .\n",
      "\n",
      "<urn:bldg/> a owl:Ontology .\n",
      "\n",
      "<urn:bldg/Furnace1> brick:hasPart <urn:bldg/Furnace1-Coil>,\n",
      "        <urn:bldg/Furnace1-Fan> .\n",
      "\n",
      "<urn:bldg/Furnace1-Coil> a brick:Cooling_Coil .\n",
      "\n",
      "<urn:bldg/Furnace1-Fan> a brick:Supply_Fan .\n",
      "\n",
      "\n"
     ]
    }
   ],
   "source": [
    "fan_template = brick.get_template_by_name(BRICK.Supply_Fan)\n",
    "coil_template = brick.get_template_by_name(BRICK.Cooling_Coil)\n",
    "\n",
    "# add fan\n",
    "fan_name = f\"{ahu_name}-Fan\"\n",
    "fan_binding_dict = {\"name\": BLDG[fan_name]}\n",
    "fan_graph = fan_template.evaluate(fan_binding_dict)\n",
    "model.add_graph(fan_graph)\n",
    "\n",
    "# add clg coil\n",
    "coil_name = f\"{ahu_name}-Coil\"\n",
    "coil_binding_dict = {\"name\": BLDG[coil_name]}\n",
    "coil_graph = coil_template.evaluate(coil_binding_dict)\n",
    "model.add_graph(coil_graph)\n",
    "\n",
    "# connecting them\n",
    "model.graph.add((BLDG[ahu_name], BRICK.hasPart, BLDG[fan_name]))\n",
    "model.graph.add((BLDG[ahu_name], BRICK.hasPart, BLDG[coil_name]))\n",
    "\n",
    "# print model to confirm components were added and connected\n",
    "print(model.graph.serialize())\n"
   ]
  },
  {
   "cell_type": "code",
   "execution_count": null,
   "metadata": {},
   "outputs": [],
   "source": [
    "# Build_model"
   ]
  }
 ],
 "metadata": {
  "kernelspec": {
   "display_name": "base",
   "language": "python",
   "name": "python3"
  },
  "language_info": {
   "codemirror_mode": {
    "name": "ipython",
    "version": 3
   },
   "file_extension": ".py",
   "mimetype": "text/x-python",
   "name": "python",
   "nbconvert_exporter": "python",
   "pygments_lexer": "ipython3",
   "version": "3.8.3"
  },
  "orig_nbformat": 4,
  "vscode": {
   "interpreter": {
    "hash": "4256a7c48e0d05b8c5d9035f2da9ccd67848a8ce35912b30e9695a74575e054a"
   }
  }
 },
 "nbformat": 4,
 "nbformat_minor": 2
}
