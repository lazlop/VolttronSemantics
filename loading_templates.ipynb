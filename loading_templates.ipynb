{
 "cells": [
  {
   "cell_type": "code",
   "execution_count": 25,
   "metadata": {},
   "outputs": [],
   "source": [
    "from rdflib import Namespace, Graph, Literal\n",
    "from buildingmotif import BuildingMOTIF\n",
    "from buildingmotif.dataclasses import Model, Library\n",
    "bm = BuildingMOTIF(\"sqlite://\") "
   ]
  },
  {
   "cell_type": "code",
   "execution_count": 19,
   "metadata": {},
   "outputs": [],
   "source": [
    "lib = Library.load(directory=\"/Users/lazlopaul/Desktop/VolttronSemantics/vltt-templates\")"
   ]
  },
  {
   "cell_type": "code",
   "execution_count": 20,
   "metadata": {},
   "outputs": [],
   "source": [
    "topic_name = lib.get_template_by_name(\"volttron-topic\")\n",
    "point_list = lib.get_template_by_name(\"volttron-point-list\")\n",
    "device_config = lib.get_template_by_name(\"volttron-device-config\")\n",
    "# volttron-point-list\n",
    "# volttron-device-config"
   ]
  },
  {
   "cell_type": "code",
   "execution_count": 21,
   "metadata": {},
   "outputs": [
    {
     "name": "stdout",
     "output_type": "stream",
     "text": [
      "{'topic', 'name'} {'config-path', 'name'} {'config-path', 'name'}\n"
     ]
    }
   ],
   "source": [
    "print(topic_name.parameters,\n",
    "point_list.parameters,\n",
    "device_config.parameters)"
   ]
  },
  {
   "cell_type": "code",
   "execution_count": 24,
   "metadata": {},
   "outputs": [],
   "source": [
    "BLDG = Namespace('test:building/')\n",
    "model = Model.create(BLDG, description=\"This is a test model for a simple building\") \n",
    "VLTT = Namespace('https://www.doesntexist.org/volttronsemantics#')\n",
    "model.graph.bind(\"VLTT\", VLTT)\n"
   ]
  },
  {
   "cell_type": "code",
   "execution_count": 28,
   "metadata": {},
   "outputs": [
    {
     "name": "stdout",
     "output_type": "stream",
     "text": [
      "@prefix VLTT: <https://www.doesntexist.org/volttronsemantics#> .\n",
      "\n",
      "<test:building/test> a VLTT:VolttronTopic ;\n",
      "    VLTT:hasTopicName \"random/topic\" .\n",
      "\n",
      "\n"
     ]
    }
   ],
   "source": [
    "print(topic_name.evaluate({'name':BLDG['test'], 'topic':Literal('random/topic')}).serialize())"
   ]
  },
  {
   "cell_type": "code",
   "execution_count": null,
   "metadata": {},
   "outputs": [],
   "source": []
  }
 ],
 "metadata": {
  "kernelspec": {
   "display_name": "base",
   "language": "python",
   "name": "python3"
  },
  "language_info": {
   "codemirror_mode": {
    "name": "ipython",
    "version": 3
   },
   "file_extension": ".py",
   "mimetype": "text/x-python",
   "name": "python",
   "nbconvert_exporter": "python",
   "pygments_lexer": "ipython3",
   "version": "3.8.3"
  },
  "orig_nbformat": 4,
  "vscode": {
   "interpreter": {
    "hash": "4256a7c48e0d05b8c5d9035f2da9ccd67848a8ce35912b30e9695a74575e054a"
   }
  }
 },
 "nbformat": 4,
 "nbformat_minor": 2
}
