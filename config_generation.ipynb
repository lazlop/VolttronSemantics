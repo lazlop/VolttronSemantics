{
 "cells": [
  {
   "cell_type": "code",
   "execution_count": 28,
   "metadata": {},
   "outputs": [],
   "source": [
    "# Mockup of Config Generation\n",
    "# Can be done through CLI or GUI\n",
    "# working through IoT device example"
   ]
  },
  {
   "cell_type": "code",
   "execution_count": 1,
   "metadata": {},
   "outputs": [],
   "source": [
    "# User Options\n",
    "\n",
    "#Path to agent?\n",
    "agent_path = 'application_example/BrickDRAgent'\n",
    "\n",
    "#Path to buildnig model?\n",
    "# model_path = 'IoT_model.ttl'\n",
    "model_path = 'bacnet_model.ttl'\n",
    "\n",
    "#config file name? (default: agent.config)\n",
    "file_name = 'agent.config'\n",
    "#overwrite the existing config file? [y/n]\n",
    "overwrite = True\n",
    "\n",
    "#Additional user-specific endpoints? \n",
    "user_inputs = {\n",
    "    'Tlimit_max': 30,\n",
    "    'Tlimit_min': 16\n",
    "}"
   ]
  },
  {
   "cell_type": "code",
   "execution_count": 2,
   "metadata": {},
   "outputs": [],
   "source": [
    "import os\n",
    "import sys\n",
    "import json\n",
    "config_dir = os.path.join(agent_path, 'config')\n",
    "sys.path.append(config_dir)\n",
    "query_path = os.path.join(config_dir, 'query.rq')\n",
    "template_path = os.path.join(config_dir, 'config.template')\n",
    "config_path = os.path.join(config_dir, file_name)\n",
    "\n",
    "from query import sparql_query\n",
    "query_results = sparql_query(model_path, query_path)\n",
    "\n",
    "with open(template_path, 'r') as f:\n",
    "    template = json.load(f)\n",
    "    \n",
    "try:\n",
    "    with open(config_path, 'r') as f:\n",
    "        current_config = json.load(f)\n",
    "except ValueError:\n",
    "    print('no existing configuration')\n",
    "    current_config = {}\n",
    "\n",
    "if overwrite:\n",
    "    new_config = template\n",
    "    # using most recent sparql query results\n",
    "    new_config.update(query_results)\n",
    "    # using user inputs\n",
    "    new_config.update(user_inputs)\n",
    "else:\n",
    "    new_config = template\n",
    "    new_config.update(query_results)\n",
    "    new_config.update(user_inputs)\n",
    "    new_config.update(current_config)\n",
    "\n",
    "for k, v in new_config.items():\n",
    "    if v is None:\n",
    "        print(f\"Missing value for {k} update user inputs\")"
   ]
  },
  {
   "cell_type": "code",
   "execution_count": 3,
   "metadata": {},
   "outputs": [],
   "source": [
    "with open(config_path, 'w+') as f:\n",
    "    json.dump(new_config, f, indent = 4)"
   ]
  },
  {
   "cell_type": "code",
   "execution_count": 4,
   "metadata": {},
   "outputs": [
    {
     "data": {
      "text/plain": [
       "{'Tlimit_min': 16,\n",
       " 'Tlimit_max': 30,\n",
       " 'TZonPoint': ['None'],\n",
       " 'TSetZonPoint': ['N/A'],\n",
       " 'TSetHeaZonPoint': ['N/A'],\n",
       " 'TSetCooZonPoint': ['N/A']}"
      ]
     },
     "execution_count": 4,
     "metadata": {},
     "output_type": "execute_result"
    }
   ],
   "source": [
    "new_config"
   ]
  },
  {
   "cell_type": "code",
   "execution_count": null,
   "metadata": {},
   "outputs": [],
   "source": []
  }
 ],
 "metadata": {
  "kernelspec": {
   "display_name": "base",
   "language": "python",
   "name": "python3"
  },
  "language_info": {
   "codemirror_mode": {
    "name": "ipython",
    "version": 3
   },
   "file_extension": ".py",
   "mimetype": "text/x-python",
   "name": "python",
   "nbconvert_exporter": "python",
   "pygments_lexer": "ipython3",
   "version": "3.11.4"
  },
  "orig_nbformat": 4,
  "vscode": {
   "interpreter": {
    "hash": "4256a7c48e0d05b8c5d9035f2da9ccd67848a8ce35912b30e9695a74575e054a"
   }
  }
 },
 "nbformat": 4,
 "nbformat_minor": 2
}
