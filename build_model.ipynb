{
 "cells": [
  {
   "cell_type": "code",
   "execution_count": 3,
   "metadata": {},
   "outputs": [],
   "source": [
    "# Imports\n",
    "from buildingmotif import BuildingMOTIF\n",
    "from rdflib import Namespace\n",
    "from buildingmotif.dataclasses import Model\n",
    "import csv\n",
    "\n",
    "\n",
    "# create the namespace\n",
    "BLDG = Namespace('urn:bldg/')\n",
    "bm = BuildingMOTIF(\"sqlite://\") # in-memory instance\n",
    "\n",
    "# Create the model! This will raise an exception if the namespace is not syntactically valid.\n",
    "model = Model.create(BLDG, description=\"Test Model\") \n",
    "\n",
    "# Should add volttron configs to triple information"
   ]
  },
  {
   "cell_type": "code",
   "execution_count": 53,
   "metadata": {},
   "outputs": [],
   "source": [
    "# funcs\n",
    "def read_csv(path):\n",
    "    line = 0\n",
    "    contents = []\n",
    "    with open(path, 'r') as csv_file:\n",
    "        csv_reader = csv.DictReader(csv_file)\n",
    "        for row in csv_reader:\n",
    "            contents.append(row)\n",
    "        return contents\n",
    "\n",
    "\n",
    "def create_relation(contents):\n",
    "    g.add(())\n",
    "\n",
    "def instantiate_equips():\n",
    "    pass\n",
    "\n",
    "def add_points():\n",
    "    pass\n"
   ]
  },
  {
   "cell_type": "code",
   "execution_count": 61,
   "metadata": {},
   "outputs": [
    {
     "name": "stdout",
     "output_type": "stream",
     "text": [
      "{'URI': 'FCU1', 'comment': 'FCU1', 'type': 'Heat_Pump', 'config': 'FCU1.config', 'point_list': 'FCU_points.csv', 'base_topic': 'sensibo/FCU1'}\n",
      "{'URI': 'FCU2', 'comment': 'FCU2', 'type': 'Heat_Pump', 'config': 'FCU2.config', 'point_list': 'FCU_points.csv', 'base_topic': 'sensibo/FCU2'}\n",
      "{'URI': 'FCU3', 'comment': 'FCU3', 'type': 'Heat_Pump', 'config': 'FCU3.config', 'point_list': 'FCU_points.csv', 'base_topic': 'sensibo/FCU3'}\n",
      "{'URI': 'FCU4', 'comment': 'FCU4', 'type': 'Heat_Pump', 'config': 'FCU4.config', 'point_list': 'FCU_points.csv', 'base_topic': 'sensibo/FCU4'}\n",
      "{'URI': 'FCU5', 'comment': 'FCU5', 'type': 'Heat_Pump', 'config': 'FCU5.config', 'point_list': 'FCU_points.csv', 'base_topic': 'sensibo/FCU5'}\n",
      "{'URI': 'Furnace1', 'comment': 'Furnace1', 'type': 'AHU', 'config': 'Furnace1.config', 'point_list': 'Furnace_points.csv', 'base_topic': 'ecobeeMainFloor'}\n",
      "{'URI': 'Boiler1', 'comment': 'Boiler1', 'type': 'Boiler', 'config': 'Boiler1.config', 'point_list': '', 'base_topic': None}\n",
      "{'URI': 'Boiler2', 'comment': 'Boiler2', 'type': 'Boiler', 'config': 'Boiler2.config', 'point_list': '', 'base_topic': None}\n",
      "{'URI': 'HeatEx1', 'comment': 'HeatEx1', 'type': 'HeatExchanger', 'config': 'HeatEx1.config', 'point_list': '', 'base_topic': None}\n",
      "{'URI': 'HeatEx2', 'comment': 'HeatEx2', 'type': 'HeatExchanger', 'config': 'HeatEx2.config', 'point_list': '', 'base_topic': None}\n",
      "{'URI': 'Fan1', 'comment': 'Fan1', 'type': 'Fan', 'config': 'Fan1.config', 'point_list': '', 'base_topic': None}\n",
      "{'URI': 'Fan2', 'comment': 'Fan2', 'type': 'Fan', 'config': 'Fan2.config', 'point_list': '', 'base_topic': None}\n",
      "{'URI': 'Bldg', 'comment': 'Bldg', 'type': 'Building', 'config': '', 'point_list': '', 'base_topic': None}\n",
      "{'URI': 'Office', 'comment': 'Office', 'type': 'Office', 'config': '', 'point_list': '', 'base_topic': None}\n",
      "{'URI': 'AdminSpace', 'comment': 'AdminSpace', 'type': 'Room', 'config': '', 'point_list': '', 'base_topic': None}\n",
      "{'URI': 'Zone1', 'comment': 'Zone1', 'type': 'HVAC_Zone', 'config': '', 'point_list': '', 'base_topic': None}\n"
     ]
    }
   ],
   "source": [
    "import csv\n",
    "def read_csv(path):\n",
    "    line = 0\n",
    "    contents = []\n",
    "    with open(path, 'r') as csv_file:\n",
    "        csv_reader = csv.DictReader(csv_file)\n",
    "        for row in csv_reader:\n",
    "            contents.append(row)\n",
    "        return contents\n",
    "\n",
    "filename  = '/Users/lazlopaul/Desktop/VolttronSemantics/files/entity_table.csv'\n",
    "contents = read_csv(filename)\n",
    "#print(contents)\n",
    "for item in contents:\n",
    "    print(item)"
   ]
  },
  {
   "cell_type": "code",
   "execution_count": null,
   "metadata": {},
   "outputs": [],
   "source": [
    "#Instantiate Every thing in table (URI and Type)\n",
    "#Then create relations\n",
    "#Then create points\n",
    "#Then add the topic names for points to them"
   ]
  }
 ],
 "metadata": {
  "kernelspec": {
   "display_name": "Python 3 (ipykernel)",
   "language": "python",
   "name": "python3"
  },
  "language_info": {
   "codemirror_mode": {
    "name": "ipython",
    "version": 3
   },
   "file_extension": ".py",
   "mimetype": "text/x-python",
   "name": "python",
   "nbconvert_exporter": "python",
   "pygments_lexer": "ipython3",
   "version": "3.8.8"
  },
  "vscode": {
   "interpreter": {
    "hash": "4256a7c48e0d05b8c5d9035f2da9ccd67848a8ce35912b30e9695a74575e054a"
   }
  }
 },
 "nbformat": 4,
 "nbformat_minor": 2
}
