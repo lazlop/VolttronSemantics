{
 "cells": [
  {
   "cell_type": "code",
   "execution_count": 3,
   "metadata": {},
   "outputs": [],
   "source": [
    "# Imports\n",
    "from buildingmotif import BuildingMOTIF\n",
    "from rdflib import Namespace\n",
    "from buildingmotif.dataclasses import Model\n",
    "import csv\n",
    "\n",
    "\n",
    "# create the namespace\n",
    "BLDG = Namespace('urn:bldg/')\n",
    "bm = BuildingMOTIF(\"sqlite://\") # in-memory instance\n",
    "\n",
    "# Create the model! This will raise an exception if the namespace is not syntactically valid.\n",
    "model = Model.create(BLDG, description=\"Test Model\") \n",
    "\n",
    "# Should add volttron configs to triple information"
   ]
  },
  {
   "cell_type": "code",
   "execution_count": 53,
   "metadata": {},
   "outputs": [],
   "source": [
    "# funcs\n",
    "def read_csv(path):\n",
    "    line = 0\n",
    "    contents = []\n",
    "    with open(path, 'r') as csv_file:\n",
    "        csv_reader = csv.DictReader(csv_file)\n",
    "        for row in csv_reader:\n",
    "            contents.append(row)\n",
    "        return contents\n",
    "\n",
    "\n",
    "def create_relation(contents):\n",
    "    g.add(())\n",
    "\n",
    "def instantiate_equips():\n",
    "    pass\n",
    "\n",
    "def add_points():\n",
    "    pass\n"
   ]
  },
  {
   "cell_type": "code",
   "execution_count": 57,
   "metadata": {},
   "outputs": [
    {
     "name": "stdout",
     "output_type": "stream",
     "text": [
      "Zone1\n",
      "Zone1\n",
      "Zone1\n",
      "Zone1\n",
      "Zone1\n",
      "Zone1\n",
      "Zone1\n",
      "Boiler1,Fan1,HeatEx1\n",
      "Boiler2,Fan2,HeatEx2\n",
      "HeatEx1\n",
      "Fan1\n",
      "HeatEx2\n",
      "Fan2\n",
      "Office,AdminSpace\n",
      "Office,AdminSpace\n"
     ]
    }
   ],
   "source": [
    "filename  = '/Users/lazlopaul/Desktop/VolttronSemantics/files/entity_relations.csv'\n",
    "contents = read_csv(filename)\n",
    "#print(contents)\n",
    "for item in contents:\n",
    "    objects = item.get('objectURI')\n",
    "    for object\n",
    "    print(object)"
   ]
  },
  {
   "cell_type": "code",
   "execution_count": null,
   "metadata": {},
   "outputs": [],
   "source": [
    "#Instantiate Every thing in table (URI and Type)\n",
    "#Then create relations\n",
    "#Then create points\n",
    "#Then add the topic names for points to them"
   ]
  }
 ],
 "metadata": {
  "kernelspec": {
   "display_name": "Python 3 (ipykernel)",
   "language": "python",
   "name": "python3"
  },
  "language_info": {
   "codemirror_mode": {
    "name": "ipython",
    "version": 3
   },
   "file_extension": ".py",
   "mimetype": "text/x-python",
   "name": "python",
   "nbconvert_exporter": "python",
   "pygments_lexer": "ipython3",
   "version": "3.8.8"
  },
  "vscode": {
   "interpreter": {
    "hash": "4256a7c48e0d05b8c5d9035f2da9ccd67848a8ce35912b30e9695a74575e054a"
   }
  }
 },
 "nbformat": 4,
 "nbformat_minor": 2
}
