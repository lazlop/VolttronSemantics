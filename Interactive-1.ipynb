{
 "cells": [
  {
   "cell_type": "markdown",
   "metadata": {
    "isInteractiveWindowMessageCell": true
   },
   "source": [
    "Connected to Python 3.11.4"
   ]
  },
  {
   "cell_type": "code",
   "execution_count": 1,
   "metadata": {},
   "outputs": [
    {
     "name": "stdout",
     "output_type": "stream",
     "text": [
      "{'unit_id3': {'delta_t': 1, 'inactive_period': 5}, 'unit_id4': {'delta_t': 2, 'inactive_period': 7}, 'unit_id2': {'delta_t': 2, 'inactive_period': 8}, 'unit_id1': {'delta_t': 3, 'inactive_period': 10}, 'unit_id5': {'delta_t': 3, 'inactive_period': 12}}\n"
     ]
    }
   ],
   "source": [
    "def organize_units(unit_dict):\n",
    "    \"\"\"\n",
    "    Takes dictionary of units, organizes them first by Deta T and based on inactive period \n",
    "    \n",
    "    params\n",
    "    --\n",
    "    unit_dict: dict\n",
    "    {unit_id: {delta_t: val, inactive_period: val}, unit_id2: {delta_t: val, inactive_period: val} }\n",
    "\n",
    "    returns \n",
    "    ordered_dict: dict\n",
    "    \n",
    "    \"\"\"\n",
    "\n",
    "    sorted_data = sorted(data.items(), key=lambda x: (x[1]['delta_t'], x[1]['inactive_period']))\n",
    "\n",
    "\n",
    "    return dict(sorted_data)\n",
    "\n",
    "    \n",
    "data = {\n",
    "    'unit_id1': {'delta_t': 3, 'inactive_period': 10},\n",
    "    'unit_id2': {'delta_t': 2, 'inactive_period': 8},\n",
    "    'unit_id3': {'delta_t': 1, 'inactive_period': 5},\n",
    "    'unit_id4': {'delta_t': 2, 'inactive_period': 7},\n",
    "    'unit_id5': {'delta_t': 3, 'inactive_period': 12},\n",
    "}\n",
    "\n",
    "print(organize_units(data))"
   ]
  },
  {
   "cell_type": "code",
   "execution_count": 2,
   "metadata": {},
   "outputs": [
    {
     "data": {
      "text/plain": [
       "{'unit_id3': {'delta_t': 1, 'inactive_period': 5},\n",
       " 'unit_id4': {'delta_t': 2, 'inactive_period': 7},\n",
       " 'unit_id2': {'delta_t': 2, 'inactive_period': 8},\n",
       " 'unit_id1': {'delta_t': 3, 'inactive_period': 10},\n",
       " 'unit_id5': {'delta_t': 3, 'inactive_period': 12}}"
      ]
     },
     "metadata": {},
     "output_type": "display_data"
    }
   ],
   "source": [
    "def organize_units(unit_dict):\n",
    "    \"\"\"\n",
    "    Takes dictionary of units, organizes them first by Deta T and based on inactive period \n",
    "    \n",
    "    params\n",
    "    --\n",
    "    unit_dict: dict\n",
    "    {unit_id: {delta_t: val, inactive_period: val}, unit_id2: {delta_t: val, inactive_period: val} }\n",
    "\n",
    "    returns \n",
    "    ordered_dict: dict\n",
    "    \n",
    "    \"\"\"\n",
    "\n",
    "    sorted_data = sorted(data.items(), key=lambda x: (x[1]['delta_t'], x[1]['inactive_period']))\n",
    "\n",
    "\n",
    "    return dict(sorted_data)\n",
    "\n",
    "    \n",
    "data = {\n",
    "    'unit_id1': {'delta_t': 3, 'inactive_period': 10},\n",
    "    'unit_id2': {'delta_t': 2, 'inactive_period': 8},\n",
    "    'unit_id3': {'delta_t': 1, 'inactive_period': 5},\n",
    "    'unit_id4': {'delta_t': 2, 'inactive_period': 7},\n",
    "    'unit_id5': {'delta_t': 3, 'inactive_period': 12},\n",
    "}\n",
    "\n",
    "display(organize_units(data))"
   ]
  }
 ],
 "metadata": {
  "kernelspec": {
   "display_name": "Python 3",
   "language": "python",
   "name": "python3"
  },
  "language_info": {
   "name": "python",
   "version": "3.11.4"
  }
 },
 "nbformat": 4,
 "nbformat_minor": 2
}
