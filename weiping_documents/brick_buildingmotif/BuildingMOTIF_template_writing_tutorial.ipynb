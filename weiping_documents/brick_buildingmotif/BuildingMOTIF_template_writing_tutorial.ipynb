{
 "cells": [
  {
   "cell_type": "code",
   "execution_count": 1,
   "id": "30d19a0f",
   "metadata": {},
   "outputs": [],
   "source": [
    "# import necessary BuildingMOTIF libraries\n",
    "from rdflib import Namespace\n",
    "from buildingmotif import BuildingMOTIF\n",
    "from buildingmotif.dataclasses import Model, Library\n",
    "from buildingmotif.namespaces import BRICK # import this to make writing URIs easier\n",
    "\n"
   ]
  },
  {
   "cell_type": "code",
   "execution_count": 2,
   "id": "0fc4388d",
   "metadata": {},
   "outputs": [],
   "source": [
    "# Create an in-memory BuildingMOTIF instance\n",
    "bm = BuildingMOTIF(\"sqlite://\")\n",
    "\n",
    "# create the namespace for the building\n",
    "BLDG = Namespace('urn:bldg/')\n",
    "\n",
    "\n",
    "# create the building model and add a description\n",
    "model = Model.create(BLDG, description=\"This is a test model for a simple building\")"
   ]
  },
  {
   "cell_type": "code",
   "execution_count": 3,
   "id": "c7491e36",
   "metadata": {},
   "outputs": [
    {
     "name": "stderr",
     "output_type": "stream",
     "text": [
      "/Users/huangwp/opt/anaconda3/lib/python3.8/site-packages/pkg_resources/__init__.py:123: PkgResourcesDeprecationWarning: rkzeug is an invalid version and will not be supported in a future release\n",
      "  warnings.warn(\n"
     ]
    }
   ],
   "source": [
    "# load a subset of BRICK library into the variable \"brick\"\n",
    "brick = Library.load(ontology_graph=\"Brick-subset.ttl\")\n"
   ]
  },
  {
   "cell_type": "code",
   "execution_count": 4,
   "id": "37719205",
   "metadata": {},
   "outputs": [],
   "source": [
    "# load the \".yaml\" templates from a folder named \"my-templates\" into the variable \"lib\"\n",
    "lib = Library.load(directory=\"my-templates\")"
   ]
  },
  {
   "cell_type": "code",
   "execution_count": 5,
   "id": "7d6046d8",
   "metadata": {},
   "outputs": [],
   "source": [
    "#  The yaml templates in the folder \"my-templates\" contain a template called \"my-thermostat\". \n",
    "# We now load the \"my-thermostat\" template.\n",
    "# \".yaml\" templates such as the\"my-thermostat\" template can contain brick-class, hasPart, hasPoint, and feeds information.\n",
    "thermostat_template = lib.get_template_by_name('my-thermostat')"
   ]
  }
 ],
 "metadata": {
  "kernelspec": {
   "display_name": "Python 3 (ipykernel)",
   "language": "python",
   "name": "python3"
  },
  "language_info": {
   "codemirror_mode": {
    "name": "ipython",
    "version": 3
   },
   "file_extension": ".py",
   "mimetype": "text/x-python",
   "name": "python",
   "nbconvert_exporter": "python",
   "pygments_lexer": "ipython3",
   "version": "3.8.8"
  }
 },
 "nbformat": 4,
 "nbformat_minor": 5
}
