{
 "cells": [
  {
   "cell_type": "code",
   "execution_count": 30,
   "id": "ab9ace8d",
   "metadata": {},
   "outputs": [],
   "source": [
    "# import necessary BuildingMOTIF libraries\n",
    "from rdflib import Namespace\n",
    "from buildingmotif import BuildingMOTIF\n",
    "from buildingmotif.dataclasses import Model, Library\n",
    "from buildingmotif.namespaces import BRICK # import this to make writing URIs easier\n",
    "import rdflib"
   ]
  },
  {
   "cell_type": "code",
   "execution_count": 31,
   "id": "b2e75a69",
   "metadata": {},
   "outputs": [],
   "source": [
    "# Create an in-memory BuildingMOTIF instance\n",
    "bm = BuildingMOTIF(\"sqlite://\")"
   ]
  },
  {
   "cell_type": "code",
   "execution_count": 32,
   "id": "717a9b87",
   "metadata": {},
   "outputs": [],
   "source": [
    "# create the namespace for the building\n",
    "BLDG = Namespace('urn:bldg/')"
   ]
  },
  {
   "cell_type": "code",
   "execution_count": 33,
   "id": "fc7a7b05",
   "metadata": {},
   "outputs": [],
   "source": [
    "# create the building model and add a description\n",
    "model = Model.create(BLDG, description=\"This is a test model for a simple building\")"
   ]
  },
  {
   "cell_type": "code",
   "execution_count": 34,
   "id": "6bd3c96f",
   "metadata": {},
   "outputs": [
    {
     "data": {
      "text/plain": [
       "<Graph identifier=394f3b01-7301-4884-b0d0-88e17192dc09 (<class 'rdflib.graph.Graph'>)>"
      ]
     },
     "execution_count": 34,
     "metadata": {},
     "output_type": "execute_result"
    }
   ],
   "source": [
    "# load the BRICK model you created\n",
    "model.graph.parse(\"BRICK_model_you_just_created.ttl\", format=\"ttl\")"
   ]
  },
  {
   "cell_type": "code",
   "execution_count": 35,
   "id": "bffa22d0",
   "metadata": {},
   "outputs": [],
   "source": [
    "# load the \".ttl\" constraints shape graphs, one \".ttl\" file at a time\n",
    "# note that the BRICK constraint file \"Brick-subset.ttl\" is always required. \n",
    "# Brick \"Brick-subset.ttl\" is a subset of BRICK constraint rules, and Brick-full.ttl\" is all BRICK constraint rules.\n",
    "# Normally, \"Brick-full.ttl\" should have been used for the required BRICK constraint file instead of Brick-subset.ttl\". \n",
    "# In fact, you should use \"Brick-full.ttl\" as the required BRICK constraint file in your future BRICK application. \n",
    "# However, since BuildingMOTIF is not yet mature, plus for the sake of demonstration below, \"Brick-subset.ttl\" is used.\n",
    "brick= Library.load(ontology_graph=\"Brick-subset.ttl\")\n",
    "constraint1 = Library.load(ontology_graph=\"constraint1.ttl\")\n",
    "constraint2 = Library.load(ontology_graph=\"constraint2.ttl\")"
   ]
  },
  {
   "cell_type": "code",
   "execution_count": 36,
   "id": "6fad159a",
   "metadata": {},
   "outputs": [],
   "source": [
    "# or, you have the option to load all the \".ttl\" files in a file folder\n",
    "constraint_file_folder1 = Library.load(directory=\"constraints_main_folder/constraints_group1\")\n",
    "constraint_file_folder2 = Library.load(directory=\"constraints_main_folder/constraints_group2\")"
   ]
  },
  {
   "cell_type": "code",
   "execution_count": 37,
   "id": "9e3c60ca",
   "metadata": {},
   "outputs": [],
   "source": [
    "# gather all the \".ttl\" constraints shape graphs in one place\n",
    "all_shape_graphs = [\n",
    "    brick.get_shape_collection(),\n",
    "    constraint1.get_shape_collection(),\n",
    "    constraint2.get_shape_collection(),\n",
    "    constraint_file_folder1.get_shape_collection(),\n",
    "    constraint_file_folder2.get_shape_collection()\n",
    "]"
   ]
  },
  {
   "cell_type": "code",
   "execution_count": 38,
   "id": "948a9333",
   "metadata": {},
   "outputs": [
    {
     "name": "stdout",
     "output_type": "stream",
     "text": [
      "@prefix brick: <https://brickschema.org/schema/Brick#> .\n",
      "@prefix owl: <http://www.w3.org/2002/07/owl#> .\n",
      "\n",
      "<urn:bldg/> a owl:Ontology .\n",
      "\n",
      "<urn:bldg/Core_ZN-PSC_AC> a brick:AHU ;\n",
      "    brick:hasPart <urn:bldg/Core_ZN-PSC_AC-Clg_Coil>,\n",
      "        <urn:bldg/Core_ZN-PSC_AC-Damper>,\n",
      "        <urn:bldg/Core_ZN-PSC_AC-Fan> .\n",
      "\n",
      "<urn:bldg/Core_ZN-PSC_AC-Clg_Coil> a brick:Cooling_Coil .\n",
      "\n",
      "<urn:bldg/Core_ZN-PSC_AC-Damper> a brick:Damper .\n",
      "\n",
      "<urn:bldg/Core_ZN-PSC_AC-Fan> a brick:Supply_Fan .\n",
      "\n",
      "\n"
     ]
    }
   ],
   "source": [
    "# view the content of the BRICK model\n",
    "print(model.graph.serialize())"
   ]
  },
  {
   "cell_type": "code",
   "execution_count": 39,
   "id": "04ef1fb6",
   "metadata": {},
   "outputs": [
    {
     "data": {
      "text/plain": [
       "'\\n@prefix brick: <https://brickschema.org/schema/Brick#> .\\n@prefix owl: <http://www.w3.org/2002/07/owl#> .\\n\\n<urn:bldg/> a owl:Ontology .\\n\\n<urn:bldg/Core_ZN-PSC_AC> a brick:AHU ;\\n    brick:hasPart <urn:bldg/Core_ZN-PSC_AC-Clg_Coil>,\\n        <urn:bldg/Core_ZN-PSC_AC-Damper>,\\n        <urn:bldg/Core_ZN-PSC_AC-Fan> .\\n\\n<urn:bldg/Core_ZN-PSC_AC-Clg_Coil> a brick:Cooling_Coil .\\n\\n<urn:bldg/Core_ZN-PSC_AC-Damper> a brick:Damper .\\n\\n<urn:bldg/Core_ZN-PSC_AC-Fan> a brick:Supply_Fan .\\n\\n'"
      ]
     },
     "execution_count": 39,
     "metadata": {},
     "output_type": "execute_result"
    }
   ],
   "source": [
    "# The content of the BRICK model should look like this:\n",
    "\"\"\"\n",
    "@prefix brick: <https://brickschema.org/schema/Brick#> .\n",
    "@prefix owl: <http://www.w3.org/2002/07/owl#> .\n",
    "\n",
    "<urn:bldg/> a owl:Ontology .\n",
    "\n",
    "<urn:bldg/Core_ZN-PSC_AC> a brick:AHU ;\n",
    "    brick:hasPart <urn:bldg/Core_ZN-PSC_AC-Clg_Coil>,\n",
    "        <urn:bldg/Core_ZN-PSC_AC-Damper>,\n",
    "        <urn:bldg/Core_ZN-PSC_AC-Fan> .\n",
    "\n",
    "<urn:bldg/Core_ZN-PSC_AC-Clg_Coil> a brick:Cooling_Coil .\n",
    "\n",
    "<urn:bldg/Core_ZN-PSC_AC-Damper> a brick:Damper .\n",
    "\n",
    "<urn:bldg/Core_ZN-PSC_AC-Fan> a brick:Supply_Fan .\n",
    "\n",
    "\"\"\""
   ]
  },
  {
   "cell_type": "code",
   "execution_count": 40,
   "id": "f411c918",
   "metadata": {},
   "outputs": [
    {
     "name": "stdout",
     "output_type": "stream",
     "text": [
      "Model is valid? False\n",
      "-------------------------------------------------------------------------------\n",
      "Validation Report\n",
      "Conforms: False\n",
      "Results (3):\n",
      "Constraint Violation in ConstraintComponent (https://nrel.gov/BuildingMOTIF/constraints#countConstraintComponent):\n",
      "\tSeverity: sh:Violation\n",
      "\tSource Shape: <urn:my_site_constraints/htg-coil-count>\n",
      "\tFocus Node: <urn:my_site_constraints/>\n",
      "\tValue Node: <urn:my_site_constraints/>\n",
      "\tMessage: Not the right number {$exactCount} of instances of {$class}\n",
      "\tMessage: need 1 heating coil\n",
      "Constraint Violation in QualifiedValueShapeConstraintComponent (http://www.w3.org/ns/shacl#QualifiedMinCountConstraintComponent):\n",
      "\tSeverity: sh:Violation\n",
      "\tSource Shape: [ sh:path brick:hasPart ; sh:qualifiedMaxCount Literal(\"1\", datatype=xsd:integer) ; sh:qualifiedMinCount Literal(\"1\", datatype=xsd:integer) ; sh:qualifiedValueShape [ sh:node <urn:ashrae/g36/4.8/sz-vav-ahu/sa-fan> ] ]\n",
      "\tFocus Node: <urn:bldg/Core_ZN-PSC_AC>\n",
      "\tResult Path: brick:hasPart\n",
      "Constraint Violation in QualifiedValueShapeConstraintComponent (http://www.w3.org/ns/shacl#QualifiedMinCountConstraintComponent):\n",
      "\tSeverity: sh:Violation\n",
      "\tSource Shape: [ sh:path brick:hasPart ; sh:qualifiedMaxCount Literal(\"1\", datatype=xsd:integer) ; sh:qualifiedMinCount Literal(\"1\", datatype=xsd:integer) ; sh:qualifiedValueShape [ sh:node <urn:ashrae/g36/4.8/sz-vav-ahu/sa-fan> ] ]\n",
      "\tFocus Node: <urn:bldg/Core_ZN-PSC_AC>\n",
      "\tResult Path: brick:hasPart\n",
      "\n",
      "-------------------------------------------------------------------------------\n",
      "Model is invalid for these reasons:\n",
      " - urn:bldg/Core_ZN-PSC_AC needs between 1 and 1 instances of urn:ashrae/g36/4.8/sz-vav-ahu/sa-fan on path https://brickschema.org/schema/Brick#hasPart\n",
      " - Graph did not have 1 instances of https://brickschema.org/schema/Brick#Heating_Coil\n",
      " - urn:bldg/Core_ZN-PSC_AC needs between 1 and 1 instances of urn:ashrae/g36/4.8/sz-vav-ahu/sa-fan on path https://brickschema.org/schema/Brick#hasPart\n"
     ]
    }
   ],
   "source": [
    "# display validation results in more detail\n",
    "\n",
    "validation_result = model.validate(all_shape_graphs)\n",
    "print(f\"Model is valid? {validation_result.valid}\")\n",
    "print(\"-\"*79) # just a separator for better error display\n",
    "print(validation_result.report_string)\n",
    "print(\"-\"*79) # just a separator for better error display\n",
    "print(\"Model is invalid for these reasons:\")\n",
    "for diff in validation_result.diffset:\n",
    "    print(f\" - {diff.reason()}\")"
   ]
  },
  {
   "cell_type": "code",
   "execution_count": 41,
   "id": "de20c7a6",
   "metadata": {},
   "outputs": [],
   "source": [
    "# From the above validation report, the first error is that the BRICK model doesn't have an instance of a heating coil.\n",
    "# The second error is that the Air Handline Unit (AHU), whose name is \"Core_ZN-PSC_AC\",\"hasPart\" a supply fan named \"Core_ZN-PSC_AC-Fan\".\n",
    "# However, this hasPart-supply-fan relationship doesn't meet the metadata requirements of ASHARE Guideline 36."
   ]
  },
  {
   "cell_type": "code",
   "execution_count": 42,
   "id": "d7afe8e1",
   "metadata": {},
   "outputs": [
    {
     "name": "stdout",
     "output_type": "stream",
     "text": [
      "@prefix brick: <https://brickschema.org/schema/Brick#> .\n",
      "@prefix owl: <http://www.w3.org/2002/07/owl#> .\n",
      "\n",
      "<urn:bldg/> a owl:Ontology .\n",
      "\n",
      "<urn:bldg/Core_ZN-PSC_AC> a brick:AHU ;\n",
      "    brick:hasPart <urn:bldg/Core_ZN-PSC_AC-Clg_Coil>,\n",
      "        <urn:bldg/Core_ZN-PSC_AC-Damper>,\n",
      "        <urn:bldg/Core_ZN-PSC_AC-Fan>,\n",
      "        <urn:bldg/Core_ZN-PSC_AC-Htg_Coil> .\n",
      "\n",
      "<urn:bldg/Core_ZN-PSC_AC-Clg_Coil> a brick:Cooling_Coil .\n",
      "\n",
      "<urn:bldg/Core_ZN-PSC_AC-Damper> a brick:Damper .\n",
      "\n",
      "<urn:bldg/Core_ZN-PSC_AC-Fan> a brick:Supply_Fan .\n",
      "\n",
      "<urn:bldg/Core_ZN-PSC_AC-Htg_Coil> a brick:Heating_Coil .\n",
      "\n",
      "\n"
     ]
    }
   ],
   "source": [
    "# Now, we want to solve the first error first -- adding a heating coil instance.\n",
    "# In BuildingMOTIF, there are no set rules to correct the validation errors. \n",
    "# Thus, one need to examine closely the BRICK model and the validation report.\n",
    "# For example, the BRICK model shows that an AHU \"hasPart\" a cooling coil, a damper, and a supply fan.\n",
    "# Particularly, notice how each piece of equipment is named. The AHU is \"Core_ZN-PSC_AC\". \n",
    "# The cooling coil, which is part of the AHU, is named \"Core_ZN-PSC_AC-Clg_Coil\". \n",
    "# Thus, when adding the heating coil, one needs to follow closely this naming convention.\n",
    "# The process of adding a heating coil is shown below.\n",
    "\n",
    "\n",
    "\n",
    "# list the name of the AHU\n",
    "ahu_name = \"Core_ZN-PSC_AC\"\n",
    "\n",
    "# add the name and the brick class of the heating coil to the BRICK model\n",
    "equipment_name = f\"{ahu_name}-Htg_Coil\"\n",
    "equipment_brick_class=\"Heating_Coil\" \n",
    "dummy_code = f\"equipment_template= brick.get_template_by_name(BRICK.{equipment_brick_class})\"\n",
    "exec(dummy_code)\n",
    "equipment_binding_dict = {\"name\": BLDG[equipment_name]}\n",
    "equipment_graph = equipment_template.evaluate(equipment_binding_dict)\n",
    "model.add_graph(equipment_graph)\n",
    "\n",
    "# add \"hasPart\" relationship between the AHU and the heating coil\n",
    "BRICK_relation=\"hasPart\"\n",
    "dummy_code=f\"model.graph.add((BLDG['{ahu_name}'], BRICK.{BRICK_relation}, BLDG['{equipment_name}']))\"\n",
    "exec(dummy_code)\n",
    "\n",
    "\n",
    "# There might be a confusion between \"model.add_graph()\" and \"model.graph.add()\"\n",
    "# \"model.add_graph()\" is adding the equipment name and the brick class \n",
    "# \"model.graph.add()\" is adding the \"hasPart\", \"hasPoint\", or \"feeds\" relationship between 2 pieces of equipment\n",
    "\n",
    "\n",
    "# print the resulting BRICK model to confirm that the heating coil was added and connected\n",
    "print(model.graph.serialize())\n"
   ]
  },
  {
   "cell_type": "code",
   "execution_count": 43,
   "id": "bb2cd709",
   "metadata": {},
   "outputs": [
    {
     "name": "stdout",
     "output_type": "stream",
     "text": [
      "Model is valid? False\n",
      "-------------------------------------------------------------------------------\n",
      "Validation Report\n",
      "Conforms: False\n",
      "Results (2):\n",
      "Constraint Violation in QualifiedValueShapeConstraintComponent (http://www.w3.org/ns/shacl#QualifiedMinCountConstraintComponent):\n",
      "\tSeverity: sh:Violation\n",
      "\tSource Shape: [ sh:path brick:hasPart ; sh:qualifiedMaxCount Literal(\"1\", datatype=xsd:integer) ; sh:qualifiedMinCount Literal(\"1\", datatype=xsd:integer) ; sh:qualifiedValueShape [ sh:node <urn:ashrae/g36/4.8/sz-vav-ahu/sa-fan> ] ]\n",
      "\tFocus Node: <urn:bldg/Core_ZN-PSC_AC>\n",
      "\tResult Path: brick:hasPart\n",
      "Constraint Violation in QualifiedValueShapeConstraintComponent (http://www.w3.org/ns/shacl#QualifiedMinCountConstraintComponent):\n",
      "\tSeverity: sh:Violation\n",
      "\tSource Shape: [ sh:path brick:hasPart ; sh:qualifiedMaxCount Literal(\"1\", datatype=xsd:integer) ; sh:qualifiedMinCount Literal(\"1\", datatype=xsd:integer) ; sh:qualifiedValueShape [ sh:node <urn:ashrae/g36/4.8/sz-vav-ahu/sa-fan> ] ]\n",
      "\tFocus Node: <urn:bldg/Core_ZN-PSC_AC>\n",
      "\tResult Path: brick:hasPart\n",
      "\n",
      "-------------------------------------------------------------------------------\n",
      "Model is invalid for these reasons:\n",
      " - urn:bldg/Core_ZN-PSC_AC needs between 1 and 1 instances of urn:ashrae/g36/4.8/sz-vav-ahu/sa-fan on path https://brickschema.org/schema/Brick#hasPart\n",
      " - urn:bldg/Core_ZN-PSC_AC needs between 1 and 1 instances of urn:ashrae/g36/4.8/sz-vav-ahu/sa-fan on path https://brickschema.org/schema/Brick#hasPart\n"
     ]
    }
   ],
   "source": [
    "# display validation results in more detail\n",
    "\n",
    "validation_result = model.validate(all_shape_graphs)\n",
    "print(f\"Model is valid? {validation_result.valid}\")\n",
    "print(\"-\"*79) # just a separator for better error display\n",
    "print(validation_result.report_string)\n",
    "print(\"-\"*79) # just a separator for better error display\n",
    "print(\"Model is invalid for these reasons:\")\n",
    "for diff in validation_result.diffset:\n",
    "    print(f\" - {diff.reason()}\")"
   ]
  },
  {
   "cell_type": "code",
   "execution_count": 44,
   "id": "8afa6926",
   "metadata": {},
   "outputs": [],
   "source": [
    "# Now, we will focus on correcting the second error -- adding metadata requirements of ASHARE Guideline 36.\n",
    "# BuildingMOTIF can help generate \".ttl\" templates to be added to the existing BRICK model, so that the BRICK model will pass validation."
   ]
  },
  {
   "cell_type": "code",
   "execution_count": 45,
   "id": "88d2bf9d",
   "metadata": {},
   "outputs": [],
   "source": [
    "# We first create a new template library by adding any name you like to the new template library. \n",
    "# This new template library is stored in the \"generated_templates\" variable\n",
    "generated_templates = Library.create(\"any_template_library_name_you_like\")"
   ]
  },
  {
   "cell_type": "code",
   "execution_count": 46,
   "id": "58ccfcd4",
   "metadata": {},
   "outputs": [],
   "source": [
    "# We then use the following code to auto-generate \".ttl\" templates and add them to the \"generated_templates\" variable. \n",
    "# For each failed validation item \"diff\", one template is auto-generated\n",
    "for diff in validation_result.diffset:\n",
    "    diff.resolve(generated_templates)"
   ]
  },
  {
   "cell_type": "code",
   "execution_count": 47,
   "id": "a85c8d3a",
   "metadata": {},
   "outputs": [
    {
     "name": "stdout",
     "output_type": "stream",
     "text": [
      "Name (autogenerated): resolve193285d6\n",
      "Parameters (autogenerated): {'p25', 'name', 'p27', 'p26', 'p29', 'p28', 'p30'}\n",
      "Template body (autogenerated):\n",
      "@prefix brick: <https://brickschema.org/schema/Brick#> .\n",
      "@prefix vav48: <urn:ashrae/g36/4.8/sz-vav-ahu/> .\n",
      "\n",
      "<urn:bldg/Core_ZN-PSC_AC> brick:hasPart <urn:___param___#name> .\n",
      "\n",
      "<urn:___param___#name> a brick:Supply_Fan,\n",
      "        vav48:sa-fan ;\n",
      "    brick:hasPoint <urn:___param___#p25>,\n",
      "        <urn:___param___#p26>,\n",
      "        <urn:___param___#p27>,\n",
      "        <urn:___param___#p28>,\n",
      "        <urn:___param___#p29>,\n",
      "        <urn:___param___#p30> .\n",
      "\n",
      "<urn:___param___#p25> a brick:Fan_Status .\n",
      "\n",
      "<urn:___param___#p26> a brick:Fan_Status .\n",
      "\n",
      "<urn:___param___#p27> a brick:Start_Stop_Command .\n",
      "\n",
      "<urn:___param___#p28> a brick:Frequency_Command .\n",
      "\n",
      "<urn:___param___#p29> a brick:Start_Stop_Command .\n",
      "\n",
      "<urn:___param___#p30> a brick:Frequency_Command .\n",
      "\n",
      "\n",
      "-------------------------------------------------------------------------------\n",
      "Name (autogenerated): resolve886a5c25\n",
      "Parameters (autogenerated): {'name', 'p21', 'p23', 'p19', 'p24', 'p22', 'p20'}\n",
      "Template body (autogenerated):\n",
      "@prefix brick: <https://brickschema.org/schema/Brick#> .\n",
      "@prefix vav48: <urn:ashrae/g36/4.8/sz-vav-ahu/> .\n",
      "\n",
      "<urn:bldg/Core_ZN-PSC_AC> brick:hasPart <urn:___param___#name> .\n",
      "\n",
      "<urn:___param___#name> a brick:Supply_Fan,\n",
      "        vav48:sa-fan ;\n",
      "    brick:hasPoint <urn:___param___#p19>,\n",
      "        <urn:___param___#p20>,\n",
      "        <urn:___param___#p21>,\n",
      "        <urn:___param___#p22>,\n",
      "        <urn:___param___#p23>,\n",
      "        <urn:___param___#p24> .\n",
      "\n",
      "<urn:___param___#p19> a brick:Fan_Status .\n",
      "\n",
      "<urn:___param___#p20> a brick:Fan_Status .\n",
      "\n",
      "<urn:___param___#p21> a brick:Start_Stop_Command .\n",
      "\n",
      "<urn:___param___#p22> a brick:Frequency_Command .\n",
      "\n",
      "<urn:___param___#p23> a brick:Start_Stop_Command .\n",
      "\n",
      "<urn:___param___#p24> a brick:Frequency_Command .\n",
      "\n",
      "\n",
      "-------------------------------------------------------------------------------\n"
     ]
    }
   ],
   "source": [
    "# Print the auto-generated templates. For each auto-generated template, the template name, the template parameters, and the template body are printed. \n",
    "for template in generated_templates.get_templates():\n",
    "    template = template.inline_dependencies()\n",
    "    print(f\"Name (autogenerated): {template.name}\")\n",
    "    print(f\"Parameters (autogenerated): {template.parameters}\")\n",
    "    print(\"Template body (autogenerated):\")\n",
    "    print(template.body.serialize())\n",
    "    print(\"-\"*79) # just a separator for better display"
   ]
  },
  {
   "cell_type": "code",
   "execution_count": 48,
   "id": "d0f06394",
   "metadata": {},
   "outputs": [
    {
     "data": {
      "text/plain": [
       "\"\\nName (autogenerated): resolve81c2f088\\nParameters (autogenerated): {'p5', 'p6', 'name', 'p4'}\\nTemplate body (autogenerated):\\n@prefix brick: <https://brickschema.org/schema/Brick#> .\\n@prefix vav48: <urn:ashrae/g36/4.8/sz-vav-ahu/> .\\n\\n<urn:bldg/Core_ZN-PSC_AC> brick:hasPart <urn:___param___#name> .\\n\\n<urn:___param___#name> a brick:Supply_Fan,\\n        vav48:sa-fan ;\\n    brick:hasPoint <urn:___param___#p4>,\\n        <urn:___param___#p5>,\\n        <urn:___param___#p6> .\\n\\n<urn:___param___#p4> a brick:Start_Stop_Command .\\n\\n<urn:___param___#p5> a brick:Fan_Status .\\n\\n<urn:___param___#p6> a brick:Frequency_Command .\\n\\n\\n-------------------------------------------------------------------------------\\n\""
      ]
     },
     "execution_count": 48,
     "metadata": {},
     "output_type": "execute_result"
    }
   ],
   "source": [
    "# The printed template should look like this:\n",
    "\n",
    "\"\"\"\n",
    "Name (autogenerated): resolve81c2f088\n",
    "Parameters (autogenerated): {'p5', 'p6', 'name', 'p4'}\n",
    "Template body (autogenerated):\n",
    "@prefix brick: <https://brickschema.org/schema/Brick#> .\n",
    "@prefix vav48: <urn:ashrae/g36/4.8/sz-vav-ahu/> .\n",
    "\n",
    "<urn:bldg/Core_ZN-PSC_AC> brick:hasPart <urn:___param___#name> .\n",
    "\n",
    "<urn:___param___#name> a brick:Supply_Fan,\n",
    "        vav48:sa-fan ;\n",
    "    brick:hasPoint <urn:___param___#p4>,\n",
    "        <urn:___param___#p5>,\n",
    "        <urn:___param___#p6> .\n",
    "\n",
    "<urn:___param___#p4> a brick:Start_Stop_Command .\n",
    "\n",
    "<urn:___param___#p5> a brick:Fan_Status .\n",
    "\n",
    "<urn:___param___#p6> a brick:Frequency_Command .\n",
    "\n",
    "\n",
    "-------------------------------------------------------------------------------\n",
    "\"\"\""
   ]
  },
  {
   "cell_type": "code",
   "execution_count": 49,
   "id": "a6ce9874",
   "metadata": {},
   "outputs": [
    {
     "name": "stdout",
     "output_type": "stream",
     "text": [
      "@prefix brick: <https://brickschema.org/schema/Brick#> .\n",
      "@prefix owl: <http://www.w3.org/2002/07/owl#> .\n",
      "@prefix vav48: <urn:ashrae/g36/4.8/sz-vav-ahu/> .\n",
      "\n",
      "<urn:bldg/> a owl:Ontology .\n",
      "\n",
      "<urn:bldg/Core_ZN-PSC_AC> a brick:AHU ;\n",
      "    brick:hasPart <urn:___param___#name>,\n",
      "        <urn:bldg/Core_ZN-PSC_AC-Clg_Coil>,\n",
      "        <urn:bldg/Core_ZN-PSC_AC-Damper>,\n",
      "        <urn:bldg/Core_ZN-PSC_AC-Fan>,\n",
      "        <urn:bldg/Core_ZN-PSC_AC-Htg_Coil> .\n",
      "\n",
      "<urn:___param___#name> a brick:Supply_Fan,\n",
      "        vav48:sa-fan ;\n",
      "    brick:hasPoint <urn:___param___#p19>,\n",
      "        <urn:___param___#p20>,\n",
      "        <urn:___param___#p21>,\n",
      "        <urn:___param___#p22>,\n",
      "        <urn:___param___#p23>,\n",
      "        <urn:___param___#p24>,\n",
      "        <urn:___param___#p25>,\n",
      "        <urn:___param___#p26>,\n",
      "        <urn:___param___#p27>,\n",
      "        <urn:___param___#p28>,\n",
      "        <urn:___param___#p29>,\n",
      "        <urn:___param___#p30> .\n",
      "\n",
      "<urn:___param___#p19> a brick:Fan_Status .\n",
      "\n",
      "<urn:___param___#p20> a brick:Fan_Status .\n",
      "\n",
      "<urn:___param___#p21> a brick:Start_Stop_Command .\n",
      "\n",
      "<urn:___param___#p22> a brick:Frequency_Command .\n",
      "\n",
      "<urn:___param___#p23> a brick:Start_Stop_Command .\n",
      "\n",
      "<urn:___param___#p24> a brick:Frequency_Command .\n",
      "\n",
      "<urn:___param___#p25> a brick:Fan_Status .\n",
      "\n",
      "<urn:___param___#p26> a brick:Fan_Status .\n",
      "\n",
      "<urn:___param___#p27> a brick:Start_Stop_Command .\n",
      "\n",
      "<urn:___param___#p28> a brick:Frequency_Command .\n",
      "\n",
      "<urn:___param___#p29> a brick:Start_Stop_Command .\n",
      "\n",
      "<urn:___param___#p30> a brick:Frequency_Command .\n",
      "\n",
      "<urn:bldg/Core_ZN-PSC_AC-Clg_Coil> a brick:Cooling_Coil .\n",
      "\n",
      "<urn:bldg/Core_ZN-PSC_AC-Damper> a brick:Damper .\n",
      "\n",
      "<urn:bldg/Core_ZN-PSC_AC-Fan> a brick:Supply_Fan .\n",
      "\n",
      "<urn:bldg/Core_ZN-PSC_AC-Htg_Coil> a brick:Heating_Coil .\n",
      "\n",
      "\n"
     ]
    }
   ],
   "source": [
    "# We notice that the generated template has some undefined names: \"<urn:___param___#name>\", \"<urn:___param___#p4>\", \"<urn:___param___#p5>\", and \"<urn:___param___#p6>\".\n",
    "# These undefined names correspond to \"Parameters (autogenerated): {'p5', 'p6', 'name', 'p4'}\", which summarizes how many items are missing names.\n",
    "# If we now directly add this generated template (with undefined names) to the Brick model:\n",
    "\n",
    "for template in generated_templates.get_templates():\n",
    "    template = template.inline_dependencies()\n",
    "    model.add_graph(template.body)\n",
    "print(model.graph.serialize())"
   ]
  },
  {
   "cell_type": "code",
   "execution_count": 50,
   "id": "f8ab2909",
   "metadata": {},
   "outputs": [
    {
     "data": {
      "text/plain": [
       "'\\n\\n@prefix brick: <https://brickschema.org/schema/Brick#> .\\n@prefix owl: <http://www.w3.org/2002/07/owl#> .\\n@prefix vav48: <urn:ashrae/g36/4.8/sz-vav-ahu/> .\\n\\n<urn:bldg/> a owl:Ontology .\\n\\n<urn:bldg/Core_ZN-PSC_AC> a brick:AHU ;\\n    brick:hasPart <urn:___param___#name>,\\n        <urn:bldg/Core_ZN-PSC_AC-Clg_Coil>,\\n        <urn:bldg/Core_ZN-PSC_AC-Damper>,\\n        <urn:bldg/Core_ZN-PSC_AC-Fan>,\\n        <urn:bldg/Core_ZN-PSC_AC-Htg_Coil> .\\n\\n<urn:___param___#name> a brick:Supply_Fan,\\n        vav48:sa-fan ;\\n    brick:hasPoint <urn:___param___#p4>,\\n        <urn:___param___#p5>,\\n        <urn:___param___#p6> .\\n\\n<urn:___param___#p4> a brick:Start_Stop_Command .\\n\\n<urn:___param___#p5> a brick:Frequency_Command .\\n\\n<urn:___param___#p6> a brick:Fan_Status .\\n\\n<urn:bldg/Core_ZN-PSC_AC-Clg_Coil> a brick:Cooling_Coil .\\n\\n<urn:bldg/Core_ZN-PSC_AC-Damper> a brick:Damper .\\n\\n<urn:bldg/Core_ZN-PSC_AC-Fan> a brick:Supply_Fan .\\n\\n<urn:bldg/Core_ZN-PSC_AC-Htg_Coil> a brick:Heating_Coil .\\n\\n\\n'"
      ]
     },
     "execution_count": 50,
     "metadata": {},
     "output_type": "execute_result"
    }
   ],
   "source": [
    "# The resulting Brick model will look like this:\n",
    "\n",
    "\n",
    "\"\"\"\n",
    "\n",
    "@prefix brick: <https://brickschema.org/schema/Brick#> .\n",
    "@prefix owl: <http://www.w3.org/2002/07/owl#> .\n",
    "@prefix vav48: <urn:ashrae/g36/4.8/sz-vav-ahu/> .\n",
    "\n",
    "<urn:bldg/> a owl:Ontology .\n",
    "\n",
    "<urn:bldg/Core_ZN-PSC_AC> a brick:AHU ;\n",
    "    brick:hasPart <urn:___param___#name>,\n",
    "        <urn:bldg/Core_ZN-PSC_AC-Clg_Coil>,\n",
    "        <urn:bldg/Core_ZN-PSC_AC-Damper>,\n",
    "        <urn:bldg/Core_ZN-PSC_AC-Fan>,\n",
    "        <urn:bldg/Core_ZN-PSC_AC-Htg_Coil> .\n",
    "\n",
    "<urn:___param___#name> a brick:Supply_Fan,\n",
    "        vav48:sa-fan ;\n",
    "    brick:hasPoint <urn:___param___#p4>,\n",
    "        <urn:___param___#p5>,\n",
    "        <urn:___param___#p6> .\n",
    "\n",
    "<urn:___param___#p4> a brick:Start_Stop_Command .\n",
    "\n",
    "<urn:___param___#p5> a brick:Frequency_Command .\n",
    "\n",
    "<urn:___param___#p6> a brick:Fan_Status .\n",
    "\n",
    "<urn:bldg/Core_ZN-PSC_AC-Clg_Coil> a brick:Cooling_Coil .\n",
    "\n",
    "<urn:bldg/Core_ZN-PSC_AC-Damper> a brick:Damper .\n",
    "\n",
    "<urn:bldg/Core_ZN-PSC_AC-Fan> a brick:Supply_Fan .\n",
    "\n",
    "<urn:bldg/Core_ZN-PSC_AC-Htg_Coil> a brick:Heating_Coil .\n",
    "\n",
    "\n",
    "\"\"\""
   ]
  },
  {
   "cell_type": "code",
   "execution_count": 51,
   "id": "ce6d33a1",
   "metadata": {},
   "outputs": [
    {
     "name": "stdout",
     "output_type": "stream",
     "text": [
      "Model is valid? False\n",
      "-------------------------------------------------------------------------------\n",
      "Validation Report\n",
      "Conforms: False\n",
      "Results (3):\n",
      "Constraint Violation in ConstraintComponent (https://nrel.gov/BuildingMOTIF/constraints#countConstraintComponent):\n",
      "\tSeverity: sh:Violation\n",
      "\tSource Shape: <urn:my_site_constraints/fan-count>\n",
      "\tFocus Node: <urn:my_site_constraints/>\n",
      "\tValue Node: <urn:my_site_constraints/>\n",
      "\tMessage: Not the right number {$exactCount} of instances of {$class}\n",
      "\tMessage: need 1 supply fan\n",
      "Constraint Violation in QualifiedValueShapeConstraintComponent (http://www.w3.org/ns/shacl#QualifiedMinCountConstraintComponent):\n",
      "\tSeverity: sh:Violation\n",
      "\tSource Shape: [ sh:path brick:hasPart ; sh:qualifiedMaxCount Literal(\"1\", datatype=xsd:integer) ; sh:qualifiedMinCount Literal(\"1\", datatype=xsd:integer) ; sh:qualifiedValueShape [ sh:node <urn:ashrae/g36/4.8/sz-vav-ahu/sa-fan> ] ]\n",
      "\tFocus Node: <urn:bldg/Core_ZN-PSC_AC>\n",
      "\tResult Path: brick:hasPart\n",
      "Constraint Violation in QualifiedValueShapeConstraintComponent (http://www.w3.org/ns/shacl#QualifiedMinCountConstraintComponent):\n",
      "\tSeverity: sh:Violation\n",
      "\tSource Shape: [ sh:path brick:hasPart ; sh:qualifiedMaxCount Literal(\"1\", datatype=xsd:integer) ; sh:qualifiedMinCount Literal(\"1\", datatype=xsd:integer) ; sh:qualifiedValueShape [ sh:node <urn:ashrae/g36/4.8/sz-vav-ahu/sa-fan> ] ]\n",
      "\tFocus Node: <urn:bldg/Core_ZN-PSC_AC>\n",
      "\tResult Path: brick:hasPart\n",
      "\n",
      "-------------------------------------------------------------------------------\n",
      "Model is invalid for these reasons:\n",
      " - Graph did not have 1 instances of https://brickschema.org/schema/Brick#Supply_Fan\n",
      " - urn:bldg/Core_ZN-PSC_AC needs between 1 and 1 instances of urn:ashrae/g36/4.8/sz-vav-ahu/sa-fan on path https://brickschema.org/schema/Brick#hasPart\n",
      " - urn:bldg/Core_ZN-PSC_AC needs between 1 and 1 instances of urn:ashrae/g36/4.8/sz-vav-ahu/sa-fan on path https://brickschema.org/schema/Brick#hasPart\n"
     ]
    }
   ],
   "source": [
    "# Now, if we pass the Brick model to validation, it will still cause validation error:\n",
    "\n",
    "validation_result = model.validate(all_shape_graphs)\n",
    "print(f\"Model is valid? {validation_result.valid}\")\n",
    "print(\"-\"*79) # just a separator for better error display\n",
    "print(validation_result.report_string)\n",
    "print(\"-\"*79) # just a separator for better error display\n",
    "print(\"Model is invalid for these reasons:\")\n",
    "for diff in validation_result.diffset:\n",
    "    print(f\" - {diff.reason()}\")"
   ]
  },
  {
   "cell_type": "code",
   "execution_count": 52,
   "id": "c7b5cb41",
   "metadata": {},
   "outputs": [],
   "source": [
    "# Why so? That is because the original Brick model already has the supply fan \"<urn:bldg/Core_ZN-PSC_AC-Fan> a brick:Supply_Fan .\"\n",
    "# The template tries to add the supply fan \"<urn:___param___#name> a brick:Supply_Fan\"\n",
    "# But since the newly added supply fan name is undefined, the Brick model (with the generated template added) now has 2 supply fans.\n",
    "# This doesn't meet the validation requirement that the AHU can only have between 1 and 1 instances of supply fan. \n",
    "# Thus, the solution is that after generating the template, we need to change the supply fan name from \"___param___#name\" to \"Core_ZN-PSC_AC-Fan\"\n",
    "# before adding the template to the Brick model, so that when the supply fan from the generated template is added to the original Brick model,\n",
    "# the Brick model can see that the added supply fan from the generated template is the same as the supply fan already existing in the original Brick model,\n",
    "# thus automatically deleting duplicates.\n"
   ]
  },
  {
   "cell_type": "code",
   "execution_count": 53,
   "id": "1065572f",
   "metadata": {},
   "outputs": [
    {
     "name": "stdout",
     "output_type": "stream",
     "text": [
      "p25\n",
      "p27\n",
      "p26\n",
      "p29\n",
      "p28\n",
      "p30\n",
      "{'name': rdflib.term.URIRef('urn:bldg/Core_ZN-PSC_AC-Fan'), 'p25': rdflib.term.URIRef('urn:bldg/Core_ZN-PSC_AC-Fanp25'), 'p27': rdflib.term.URIRef('urn:bldg/Core_ZN-PSC_AC-Fanp27'), 'p26': rdflib.term.URIRef('urn:bldg/Core_ZN-PSC_AC-Fanp26'), 'p29': rdflib.term.URIRef('urn:bldg/Core_ZN-PSC_AC-Fanp29'), 'p28': rdflib.term.URIRef('urn:bldg/Core_ZN-PSC_AC-Fanp28'), 'p30': rdflib.term.URIRef('urn:bldg/Core_ZN-PSC_AC-Fanp30')}\n",
      "p21\n",
      "p22\n",
      "p23\n",
      "p24\n",
      "p19\n",
      "p20\n",
      "{'name': rdflib.term.URIRef('urn:bldg/Core_ZN-PSC_AC-Fan'), 'p21': rdflib.term.URIRef('urn:bldg/Core_ZN-PSC_AC-Fanp21'), 'p22': rdflib.term.URIRef('urn:bldg/Core_ZN-PSC_AC-Fanp22'), 'p23': rdflib.term.URIRef('urn:bldg/Core_ZN-PSC_AC-Fanp23'), 'p24': rdflib.term.URIRef('urn:bldg/Core_ZN-PSC_AC-Fanp24'), 'p19': rdflib.term.URIRef('urn:bldg/Core_ZN-PSC_AC-Fanp19'), 'p20': rdflib.term.URIRef('urn:bldg/Core_ZN-PSC_AC-Fanp20')}\n"
     ]
    }
   ],
   "source": [
    "# The BuildingMOTIF codes to add to undefined names are shown below:\n",
    "\n",
    "\n",
    "from buildingmotif.namespaces import BRICK\n",
    "for template in generated_templates.get_templates():\n",
    "    template = template.inline_dependencies()\n",
    "    \n",
    "    # get name of AHU \n",
    "    ahu_name = 'urn:bldg/Core_ZN-PSC_AC'\n",
    "    ahu_name = rdflib.term.URIRef(ahu_name) # necessary conversion from strings to rdflib URI reference\n",
    "\n",
    "    # get name of the supply fan\n",
    "    supply_fan_name = ahu_name + '-Fan'\n",
    "\n",
    "    # we know from the exploration above that each template has\n",
    "    # 1 parameter called 'name', which we assign to the name of the supply fan\n",
    "    bindings = {\n",
    "        \"name\": supply_fan_name,\n",
    "    }\n",
    "    \n",
    "    # the rest of the parameters (p4, p5, p6) have random names, so let's generate\n",
    "    # random URIs for those by putting the name of the parameter at the end\n",
    "    # of the fan's name\n",
    "    for p in template.parameters - {'name'}: # template.parameters = {'name', 'p6', 'p4', 'p5'}\n",
    "        print(p)\n",
    "        bindings[p] = supply_fan_name + p\n",
    "        bindings[p]=rdflib.term.URIRef(bindings[p]) # necessary conversion from strings to rdflib URI reference\n",
    "    \n",
    "    print(bindings)\n",
    "    \"\"\"\n",
    "    bindings =\n",
    "    \n",
    "    {'name': rdflib.term.URIRef('urn:bldg/Core_ZN-PSC_AC-Fan'), \n",
    "    'p5': rdflib.term.URIRef('urn:bldg/Core_ZN-PSC_AC-Fanp5'), \n",
    "    'p4': rdflib.term.URIRef('urn:bldg/Core_ZN-PSC_AC-Fanp4'), \n",
    "    'p6': rdflib.term.URIRef('urn:bldg/Core_ZN-PSC_AC-Fanp6')\n",
    "    }\n",
    "    \n",
    "    \"\"\"\n",
    "\n",
    "    \n",
    "    # Execute name change and store it in a new template \"template_with_defined_names\"\n",
    "    template_with_defined_names = template.evaluate(bindings)\n",
    "    \n",
    "    \"\"\"\n",
    "    Basically the name changes look like these\n",
    "    \n",
    "    <urn:___param___#name> ==> <urn:bldg/Core_ZN-PSC_AC-Fan>\n",
    "    <urn:___param___#p4> ==> <urn:bldg/Core_ZN-PSC_AC-Fanp4>\n",
    "    <urn:___param___#p5> ==> <urn:bldg/Core_ZN-PSC_AC-Fanp5> \n",
    "    <urn:___param___#p6> ==> <urn:bldg/Core_ZN-PSC_AC-Fanp6>\n",
    "    \n",
    "    \"\"\"\n",
    "    \n",
    "    model.add_graph(template_with_defined_names)\n"
   ]
  },
  {
   "cell_type": "code",
   "execution_count": 54,
   "id": "0442c6ee",
   "metadata": {},
   "outputs": [
    {
     "name": "stdout",
     "output_type": "stream",
     "text": [
      "@prefix brick: <https://brickschema.org/schema/Brick#> .\n",
      "@prefix owl: <http://www.w3.org/2002/07/owl#> .\n",
      "@prefix vav48: <urn:ashrae/g36/4.8/sz-vav-ahu/> .\n",
      "\n",
      "<urn:bldg/> a owl:Ontology .\n",
      "\n",
      "<urn:bldg/Core_ZN-PSC_AC> a brick:AHU ;\n",
      "    brick:hasPart <urn:___param___#name>,\n",
      "        <urn:bldg/Core_ZN-PSC_AC-Clg_Coil>,\n",
      "        <urn:bldg/Core_ZN-PSC_AC-Damper>,\n",
      "        <urn:bldg/Core_ZN-PSC_AC-Fan>,\n",
      "        <urn:bldg/Core_ZN-PSC_AC-Htg_Coil> .\n",
      "\n",
      "<urn:___param___#name> a brick:Supply_Fan,\n",
      "        vav48:sa-fan ;\n",
      "    brick:hasPoint <urn:___param___#p19>,\n",
      "        <urn:___param___#p20>,\n",
      "        <urn:___param___#p21>,\n",
      "        <urn:___param___#p22>,\n",
      "        <urn:___param___#p23>,\n",
      "        <urn:___param___#p24>,\n",
      "        <urn:___param___#p25>,\n",
      "        <urn:___param___#p26>,\n",
      "        <urn:___param___#p27>,\n",
      "        <urn:___param___#p28>,\n",
      "        <urn:___param___#p29>,\n",
      "        <urn:___param___#p30> .\n",
      "\n",
      "<urn:___param___#p19> a brick:Fan_Status .\n",
      "\n",
      "<urn:___param___#p20> a brick:Fan_Status .\n",
      "\n",
      "<urn:___param___#p21> a brick:Start_Stop_Command .\n",
      "\n",
      "<urn:___param___#p22> a brick:Frequency_Command .\n",
      "\n",
      "<urn:___param___#p23> a brick:Start_Stop_Command .\n",
      "\n",
      "<urn:___param___#p24> a brick:Frequency_Command .\n",
      "\n",
      "<urn:___param___#p25> a brick:Fan_Status .\n",
      "\n",
      "<urn:___param___#p26> a brick:Fan_Status .\n",
      "\n",
      "<urn:___param___#p27> a brick:Start_Stop_Command .\n",
      "\n",
      "<urn:___param___#p28> a brick:Frequency_Command .\n",
      "\n",
      "<urn:___param___#p29> a brick:Start_Stop_Command .\n",
      "\n",
      "<urn:___param___#p30> a brick:Frequency_Command .\n",
      "\n",
      "<urn:bldg/Core_ZN-PSC_AC-Clg_Coil> a brick:Cooling_Coil .\n",
      "\n",
      "<urn:bldg/Core_ZN-PSC_AC-Damper> a brick:Damper .\n",
      "\n",
      "<urn:bldg/Core_ZN-PSC_AC-Fan> a brick:Supply_Fan,\n",
      "        vav48:sa-fan ;\n",
      "    brick:hasPoint <urn:bldg/Core_ZN-PSC_AC-Fanp19>,\n",
      "        <urn:bldg/Core_ZN-PSC_AC-Fanp20>,\n",
      "        <urn:bldg/Core_ZN-PSC_AC-Fanp21>,\n",
      "        <urn:bldg/Core_ZN-PSC_AC-Fanp22>,\n",
      "        <urn:bldg/Core_ZN-PSC_AC-Fanp23>,\n",
      "        <urn:bldg/Core_ZN-PSC_AC-Fanp24>,\n",
      "        <urn:bldg/Core_ZN-PSC_AC-Fanp25>,\n",
      "        <urn:bldg/Core_ZN-PSC_AC-Fanp26>,\n",
      "        <urn:bldg/Core_ZN-PSC_AC-Fanp27>,\n",
      "        <urn:bldg/Core_ZN-PSC_AC-Fanp28>,\n",
      "        <urn:bldg/Core_ZN-PSC_AC-Fanp29>,\n",
      "        <urn:bldg/Core_ZN-PSC_AC-Fanp30> .\n",
      "\n",
      "<urn:bldg/Core_ZN-PSC_AC-Fanp19> a brick:Fan_Status .\n",
      "\n",
      "<urn:bldg/Core_ZN-PSC_AC-Fanp20> a brick:Fan_Status .\n",
      "\n",
      "<urn:bldg/Core_ZN-PSC_AC-Fanp21> a brick:Start_Stop_Command .\n",
      "\n",
      "<urn:bldg/Core_ZN-PSC_AC-Fanp22> a brick:Frequency_Command .\n",
      "\n",
      "<urn:bldg/Core_ZN-PSC_AC-Fanp23> a brick:Start_Stop_Command .\n",
      "\n",
      "<urn:bldg/Core_ZN-PSC_AC-Fanp24> a brick:Frequency_Command .\n",
      "\n",
      "<urn:bldg/Core_ZN-PSC_AC-Fanp25> a brick:Fan_Status .\n",
      "\n",
      "<urn:bldg/Core_ZN-PSC_AC-Fanp26> a brick:Fan_Status .\n",
      "\n",
      "<urn:bldg/Core_ZN-PSC_AC-Fanp27> a brick:Start_Stop_Command .\n",
      "\n",
      "<urn:bldg/Core_ZN-PSC_AC-Fanp28> a brick:Frequency_Command .\n",
      "\n",
      "<urn:bldg/Core_ZN-PSC_AC-Fanp29> a brick:Start_Stop_Command .\n",
      "\n",
      "<urn:bldg/Core_ZN-PSC_AC-Fanp30> a brick:Frequency_Command .\n",
      "\n",
      "<urn:bldg/Core_ZN-PSC_AC-Htg_Coil> a brick:Heating_Coil .\n",
      "\n",
      "\n"
     ]
    }
   ],
   "source": [
    "# print the resulting BRICK model\n",
    "print(model.graph.serialize())"
   ]
  },
  {
   "cell_type": "code",
   "execution_count": 55,
   "id": "41b2b54a",
   "metadata": {},
   "outputs": [
    {
     "data": {
      "text/plain": [
       "'\\n@prefix brick: <https://brickschema.org/schema/Brick#> .\\n@prefix owl: <http://www.w3.org/2002/07/owl#> .\\n@prefix vav48: <urn:ashrae/g36/4.8/sz-vav-ahu/> .\\n\\n<urn:bldg/> a owl:Ontology .\\n\\n<urn:bldg/Core_ZN-PSC_AC> a brick:AHU ;\\n    brick:hasPart <urn:___param___#name>,\\n        <urn:bldg/Core_ZN-PSC_AC-Clg_Coil>,\\n        <urn:bldg/Core_ZN-PSC_AC-Damper>,\\n        <urn:bldg/Core_ZN-PSC_AC-Fan>,\\n        <urn:bldg/Core_ZN-PSC_AC-Htg_Coil> .\\n\\n<urn:___param___#name> a brick:Supply_Fan,\\n        vav48:sa-fan ;\\n    brick:hasPoint <urn:___param___#p4>,\\n        <urn:___param___#p5>,\\n        <urn:___param___#p6> .\\n\\n<urn:___param___#p4> a brick:Start_Stop_Command .\\n\\n<urn:___param___#p5> a brick:Frequency_Command .\\n\\n<urn:___param___#p6> a brick:Fan_Status .\\n\\n<urn:bldg/Core_ZN-PSC_AC-Clg_Coil> a brick:Cooling_Coil .\\n\\n<urn:bldg/Core_ZN-PSC_AC-Damper> a brick:Damper .\\n\\n<urn:bldg/Core_ZN-PSC_AC-Fan> a brick:Supply_Fan,\\n        vav48:sa-fan ;\\n    brick:hasPoint <urn:bldg/Core_ZN-PSC_AC-Fanp4>,\\n        <urn:bldg/Core_ZN-PSC_AC-Fanp5>,\\n        <urn:bldg/Core_ZN-PSC_AC-Fanp6> .\\n\\n<urn:bldg/Core_ZN-PSC_AC-Fanp4> a brick:Start_Stop_Command .\\n\\n<urn:bldg/Core_ZN-PSC_AC-Fanp5> a brick:Frequency_Command .\\n\\n<urn:bldg/Core_ZN-PSC_AC-Fanp6> a brick:Fan_Status .\\n\\n<urn:bldg/Core_ZN-PSC_AC-Htg_Coil> a brick:Heating_Coil .\\n'"
      ]
     },
     "execution_count": 55,
     "metadata": {},
     "output_type": "execute_result"
    }
   ],
   "source": [
    "# The resulting Brick model should look like this:\n",
    "\n",
    "\n",
    "\"\"\"\n",
    "@prefix brick: <https://brickschema.org/schema/Brick#> .\n",
    "@prefix owl: <http://www.w3.org/2002/07/owl#> .\n",
    "@prefix vav48: <urn:ashrae/g36/4.8/sz-vav-ahu/> .\n",
    "\n",
    "<urn:bldg/> a owl:Ontology .\n",
    "\n",
    "<urn:bldg/Core_ZN-PSC_AC> a brick:AHU ;\n",
    "    brick:hasPart <urn:___param___#name>,\n",
    "        <urn:bldg/Core_ZN-PSC_AC-Clg_Coil>,\n",
    "        <urn:bldg/Core_ZN-PSC_AC-Damper>,\n",
    "        <urn:bldg/Core_ZN-PSC_AC-Fan>,\n",
    "        <urn:bldg/Core_ZN-PSC_AC-Htg_Coil> .\n",
    "\n",
    "<urn:___param___#name> a brick:Supply_Fan,\n",
    "        vav48:sa-fan ;\n",
    "    brick:hasPoint <urn:___param___#p4>,\n",
    "        <urn:___param___#p5>,\n",
    "        <urn:___param___#p6> .\n",
    "\n",
    "<urn:___param___#p4> a brick:Start_Stop_Command .\n",
    "\n",
    "<urn:___param___#p5> a brick:Frequency_Command .\n",
    "\n",
    "<urn:___param___#p6> a brick:Fan_Status .\n",
    "\n",
    "<urn:bldg/Core_ZN-PSC_AC-Clg_Coil> a brick:Cooling_Coil .\n",
    "\n",
    "<urn:bldg/Core_ZN-PSC_AC-Damper> a brick:Damper .\n",
    "\n",
    "<urn:bldg/Core_ZN-PSC_AC-Fan> a brick:Supply_Fan,\n",
    "        vav48:sa-fan ;\n",
    "    brick:hasPoint <urn:bldg/Core_ZN-PSC_AC-Fanp4>,\n",
    "        <urn:bldg/Core_ZN-PSC_AC-Fanp5>,\n",
    "        <urn:bldg/Core_ZN-PSC_AC-Fanp6> .\n",
    "\n",
    "<urn:bldg/Core_ZN-PSC_AC-Fanp4> a brick:Start_Stop_Command .\n",
    "\n",
    "<urn:bldg/Core_ZN-PSC_AC-Fanp5> a brick:Frequency_Command .\n",
    "\n",
    "<urn:bldg/Core_ZN-PSC_AC-Fanp6> a brick:Fan_Status .\n",
    "\n",
    "<urn:bldg/Core_ZN-PSC_AC-Htg_Coil> a brick:Heating_Coil .\n",
    "\"\"\""
   ]
  },
  {
   "cell_type": "code",
   "execution_count": 56,
   "id": "74194609",
   "metadata": {},
   "outputs": [],
   "source": [
    "# We notice that our previous mistake of adding the template with undefined names is still showing in the newly resulting Brick model\n",
    "# While a \"partial delete\" function might or might not exist in BuildingMOTIF, there is an easy way:\n",
    "# copy the above Brick model, manually delete all the code lines with undefined names, and store it in a new file \n",
    "# The new file can be named \"updated_BRICK_model_you_just_created.ttl\"\n",
    "\n",
    "\n",
    "\n",
    "with open(\"updated_BRICK_model_you_just_created.ttl\", \"w\") as f:\n",
    "    f.write(\"\"\"\n",
    "@prefix brick: <https://brickschema.org/schema/Brick#> .\n",
    "@prefix owl: <http://www.w3.org/2002/07/owl#> .\n",
    "@prefix vav48: <urn:ashrae/g36/4.8/sz-vav-ahu/> .\n",
    "\n",
    "<urn:bldg/> a owl:Ontology .\n",
    "\n",
    "<urn:bldg/Core_ZN-PSC_AC> a brick:AHU ;\n",
    "    brick:hasPart <urn:bldg/Core_ZN-PSC_AC-Clg_Coil>,\n",
    "        <urn:bldg/Core_ZN-PSC_AC-Damper>,\n",
    "        <urn:bldg/Core_ZN-PSC_AC-Fan>,\n",
    "        <urn:bldg/Core_ZN-PSC_AC-Htg_Coil> .\n",
    "\n",
    "\n",
    "\n",
    "<urn:bldg/Core_ZN-PSC_AC-Clg_Coil> a brick:Cooling_Coil .\n",
    "\n",
    "<urn:bldg/Core_ZN-PSC_AC-Damper> a brick:Damper .\n",
    "\n",
    "<urn:bldg/Core_ZN-PSC_AC-Fan> a brick:Supply_Fan,\n",
    "        vav48:sa-fan ;\n",
    "    brick:hasPoint <urn:bldg/Core_ZN-PSC_AC-Fanp4>,\n",
    "        <urn:bldg/Core_ZN-PSC_AC-Fanp5>,\n",
    "        <urn:bldg/Core_ZN-PSC_AC-Fanp6> .\n",
    "\n",
    "<urn:bldg/Core_ZN-PSC_AC-Fanp4> a brick:Start_Stop_Command .\n",
    "\n",
    "<urn:bldg/Core_ZN-PSC_AC-Fanp5> a brick:Fan_Status .\n",
    "\n",
    "<urn:bldg/Core_ZN-PSC_AC-Fanp6> a brick:Frequency_Command .\n",
    "\n",
    "<urn:bldg/Core_ZN-PSC_AC-Htg_Coil> a brick:Heating_Coil .\n",
    "\"\"\")"
   ]
  },
  {
   "cell_type": "code",
   "execution_count": 57,
   "id": "3299991a",
   "metadata": {},
   "outputs": [
    {
     "data": {
      "text/plain": [
       "<Graph identifier=c9814f3c-6bbe-47e2-b396-4e4e85f81bf5 (<class 'rdflib.graph.Graph'>)>"
      ]
     },
     "execution_count": 57,
     "metadata": {},
     "output_type": "execute_result"
    }
   ],
   "source": [
    "# load the \"updated_BRICK_model_you_just_created.ttl\"\n",
    "model = Model.create(BLDG, description=\"This is a test model for a simple building\")\n",
    "model.graph.parse(\"updated_BRICK_model_you_just_created.ttl\", format=\"ttl\")"
   ]
  },
  {
   "cell_type": "code",
   "execution_count": 58,
   "id": "a9069604",
   "metadata": {},
   "outputs": [
    {
     "name": "stdout",
     "output_type": "stream",
     "text": [
      "Model is valid? True\n",
      "-------------------------------------------------------------------------------\n",
      "Validation Report\n",
      "Conforms: True\n",
      "\n",
      "-------------------------------------------------------------------------------\n",
      "Model is invalid for these reasons:\n"
     ]
    }
   ],
   "source": [
    "# display validation results in more detail\n",
    "\n",
    "validation_result = model.validate(all_shape_graphs)\n",
    "print(f\"Model is valid? {validation_result.valid}\")\n",
    "print(\"-\"*79) # just a separator for better error display\n",
    "print(validation_result.report_string)\n",
    "print(\"-\"*79) # just a separator for better error display\n",
    "print(\"Model is invalid for these reasons:\")\n",
    "for diff in validation_result.diffset:\n",
    "    print(f\" - {diff.reason()}\")"
   ]
  },
  {
   "cell_type": "code",
   "execution_count": null,
   "id": "10beba6a",
   "metadata": {},
   "outputs": [],
   "source": []
  },
  {
   "cell_type": "code",
   "execution_count": null,
   "id": "eb46ca35",
   "metadata": {},
   "outputs": [],
   "source": []
  }
 ],
 "metadata": {
  "kernelspec": {
   "display_name": "Python 3 (ipykernel)",
   "language": "python",
   "name": "python3"
  },
  "language_info": {
   "codemirror_mode": {
    "name": "ipython",
    "version": 3
   },
   "file_extension": ".py",
   "mimetype": "text/x-python",
   "name": "python",
   "nbconvert_exporter": "python",
   "pygments_lexer": "ipython3",
   "version": "3.8.8"
  }
 },
 "nbformat": 4,
 "nbformat_minor": 5
}
